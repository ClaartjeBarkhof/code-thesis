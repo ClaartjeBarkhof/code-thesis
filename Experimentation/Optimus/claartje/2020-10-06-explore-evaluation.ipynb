{
 "cells": [
  {
   "cell_type": "code",
   "execution_count": 6,
   "metadata": {},
   "outputs": [
    {
     "data": {
      "text/plain": [
       "['results-07-10-2020--17:27:52.pickle', 'results-07-10-2020--18:02:25.pickle']"
      ]
     },
     "execution_count": 6,
     "metadata": {},
     "output_type": "execute_result"
    }
   ],
   "source": [
    "import pickle5 as pickle\n",
    "import os\n",
    "\n",
    "os.listdir('evaluation-results')"
   ]
  },
  {
   "cell_type": "code",
   "execution_count": 7,
   "metadata": {},
   "outputs": [],
   "source": [
    "with open('evaluation-results/results-07-10-2020--18:02:25.pickle', 'rb') as handle:\n",
    "    results = pickle.load(handle)"
   ]
  },
  {
   "cell_type": "code",
   "execution_count": 20,
   "metadata": {},
   "outputs": [
    {
     "name": "stdout",
     "output_type": "stream",
     "text": [
      "SNLI BETA 0.0\n",
      "Autoregressive CE Loss mean (std.): 92.94 (32.57), PPL mean (std.) inf, (nan)\n",
      "Teacher forced CE Loss mean (std.): 63.51 (24.64), PPL mean (std.) inf, (nan)\n",
      "SNLI BETA 0.5\n",
      "Autoregressive CE Loss mean (std.): 92.94 (32.60), PPL mean (std.) inf, (nan)\n",
      "Teacher forced CE Loss mean (std.): 63.23 (24.74), PPL mean (std.) inf, (nan)\n",
      "SNLI BETA 1.0\n",
      "Autoregressive CE Loss mean (std.): 92.91 (32.53), PPL mean (std.) inf, (nan)\n",
      "Teacher forced CE Loss mean (std.): 63.32 (24.73), PPL mean (std.) inf, (nan)\n",
      "WIKIPEDIA BETA 0.0\n",
      "Autoregressive CE Loss mean (std.): 77.76 (34.36), PPL mean (std.) inf, (nan)\n",
      "Teacher forced CE Loss mean (std.): 29.08 (16.70), PPL mean (std.) inf, (nan)\n",
      "WIKIPEDIA BETA 0.5\n",
      "Autoregressive CE Loss mean (std.): 77.77 (34.35), PPL mean (std.) inf, (nan)\n",
      "Teacher forced CE Loss mean (std.): 29.08 (16.70), PPL mean (std.) inf, (nan)\n"
     ]
    }
   ],
   "source": [
    "for snli_wikipedia in results.keys():\n",
    "    for beta, r in results[snli_wikipedia].items():\n",
    "        print(snli_wikipedia.upper(), \"BETA {}\".format(beta))\n",
    "        print(\"Autoregressive CE Loss mean (std.): {:.2f} ({:.2f}), PPL mean (std.) {:.2f}, ({:.2f})\".format(\n",
    "            r['ce_losses_auto_all'].mean().item(), \n",
    "            r['ce_losses_auto_all'].std().item(),\n",
    "            r['ce_losses_auto_all'].exp().mean().item(),\n",
    "            r['ce_losses_auto_all'].exp().std().item()))\n",
    "        print(\"Teacher forced CE Loss mean (std.): {:.2f} ({:.2f}), PPL mean (std.) {:.2f}, ({:.2f})\".format(\n",
    "            r['ce_losses_tf_all'].mean().item(), \n",
    "            r['ce_losses_tf_all'].std().item(),\n",
    "            r['ce_losses_tf_all'].exp().mean().item(),\n",
    "            r['ce_losses_tf_all'].exp().std().item()))"
   ]
  },
  {
   "cell_type": "code",
   "execution_count": null,
   "metadata": {},
   "outputs": [],
   "source": []
  }
 ],
 "metadata": {
  "kernelspec": {
   "display_name": "Python 3",
   "language": "python",
   "name": "python3"
  },
  "language_info": {
   "codemirror_mode": {
    "name": "ipython",
    "version": 3
   },
   "file_extension": ".py",
   "mimetype": "text/x-python",
   "name": "python",
   "nbconvert_exporter": "python",
   "pygments_lexer": "ipython3",
   "version": "3.6.10"
  },
  "varInspector": {
   "cols": {
    "lenName": 16,
    "lenType": 16,
    "lenVar": 40
   },
   "kernels_config": {
    "python": {
     "delete_cmd_postfix": "",
     "delete_cmd_prefix": "del ",
     "library": "var_list.py",
     "varRefreshCmd": "print(var_dic_list())"
    },
    "r": {
     "delete_cmd_postfix": ") ",
     "delete_cmd_prefix": "rm(",
     "library": "var_list.r",
     "varRefreshCmd": "cat(var_dic_list()) "
    }
   },
   "types_to_exclude": [
    "module",
    "function",
    "builtin_function_or_method",
    "instance",
    "_Feature"
   ],
   "window_display": false
  }
 },
 "nbformat": 4,
 "nbformat_minor": 4
}
