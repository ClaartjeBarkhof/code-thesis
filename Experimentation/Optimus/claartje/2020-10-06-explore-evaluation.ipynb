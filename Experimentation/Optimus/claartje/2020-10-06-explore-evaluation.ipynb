{
 "cells": [
  {
   "cell_type": "code",
   "execution_count": 1,
   "metadata": {},
   "outputs": [
    {
     "data": {
      "text/plain": [
       "['.DS_Store',\n",
       " 'results-06-10-2020--16:21:57.pickle',\n",
       " '2020-10-06-explore-evaluation.ipynb',\n",
       " 'relevant_optimus_code',\n",
       " 'sample_text.txt',\n",
       " 'latents.pickle',\n",
       " 'reconstructed_sentences.pickle',\n",
       " '.ipynb_checkpoints',\n",
       " 'autoregressive_versus_teacher_forcing.py',\n",
       " 'data',\n",
       " 'outputs',\n",
       " '2020-09-28-explore_optimus_code.ipynb']"
      ]
     },
     "execution_count": 1,
     "metadata": {},
     "output_type": "execute_result"
    }
   ],
   "source": [
    "import pickle\n",
    "import os\n",
    "\n",
    "os.listdir()"
   ]
  },
  {
   "cell_type": "code",
   "execution_count": 3,
   "metadata": {},
   "outputs": [],
   "source": [
    "with open('results-06-10-2020--16:21:57.pickle', 'rb') as handle:\n",
    "    results = pickle.load(handle)"
   ]
  },
  {
   "cell_type": "code",
   "execution_count": 5,
   "metadata": {},
   "outputs": [
    {
     "name": "stdout",
     "output_type": "stream",
     "text": [
      "pred_auto_all torch.Size([200, 9])\n",
      "ce_losses_auto_all torch.Size([200])\n",
      "pred_tf_all torch.Size([200, 9])\n",
      "ce_losses_tf_all torch.Size([200])\n",
      "pred_auto_all torch.Size([400, 9])\n",
      "ce_losses_auto_all torch.Size([400])\n",
      "pred_tf_all torch.Size([400, 9])\n",
      "ce_losses_tf_all torch.Size([400])\n",
      "pred_auto_all torch.Size([600, 9])\n",
      "ce_losses_auto_all torch.Size([600])\n",
      "pred_tf_all torch.Size([600, 9])\n",
      "ce_losses_tf_all torch.Size([600])\n",
      "pred_auto_all torch.Size([800, 9])\n",
      "ce_losses_auto_all torch.Size([800])\n",
      "pred_tf_all torch.Size([800, 9])\n",
      "ce_losses_tf_all torch.Size([800])\n",
      "pred_auto_all torch.Size([1000, 9])\n",
      "ce_losses_auto_all torch.Size([1000])\n",
      "pred_tf_all torch.Size([1000, 9])\n",
      "ce_losses_tf_all torch.Size([1000])\n"
     ]
    }
   ],
   "source": [
    "for snli_wikipedia in results.keys():\n",
    "    for beta, r in results[snli_wikipedia].items():\n",
    "        for k, v in r.items():\n",
    "            print(k, v.shape)"
   ]
  },
  {
   "cell_type": "code",
   "execution_count": null,
   "metadata": {},
   "outputs": [],
   "source": []
  }
 ],
 "metadata": {
  "kernelspec": {
   "display_name": "Python 3",
   "language": "python",
   "name": "python3"
  },
  "language_info": {
   "codemirror_mode": {
    "name": "ipython",
    "version": 3
   },
   "file_extension": ".py",
   "mimetype": "text/x-python",
   "name": "python",
   "nbconvert_exporter": "python",
   "pygments_lexer": "ipython3",
   "version": "3.6.10"
  },
  "varInspector": {
   "cols": {
    "lenName": 16,
    "lenType": 16,
    "lenVar": 40
   },
   "kernels_config": {
    "python": {
     "delete_cmd_postfix": "",
     "delete_cmd_prefix": "del ",
     "library": "var_list.py",
     "varRefreshCmd": "print(var_dic_list())"
    },
    "r": {
     "delete_cmd_postfix": ") ",
     "delete_cmd_prefix": "rm(",
     "library": "var_list.r",
     "varRefreshCmd": "cat(var_dic_list()) "
    }
   },
   "types_to_exclude": [
    "module",
    "function",
    "builtin_function_or_method",
    "instance",
    "_Feature"
   ],
   "window_display": false
  }
 },
 "nbformat": 4,
 "nbformat_minor": 4
}
