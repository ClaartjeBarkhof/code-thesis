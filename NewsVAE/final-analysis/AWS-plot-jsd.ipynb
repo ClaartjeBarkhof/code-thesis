{
 "cells": [
  {
   "cell_type": "code",
   "execution_count": 1,
   "metadata": {},
   "outputs": [
    {
     "name": "stdout",
     "output_type": "stream",
     "text": [
      "Not deleting all pareto related files, if you want to recompute, run: update(recompute=True)\n",
      "Making run overview, based on dir: /home/cbarkhof/code-thesis/NewsVAE/Runs\n",
      "Making run overview of /home/cbarkhof/code-thesis/NewsVAE/Runs, in /home/cbarkhof/code-thesis/NewsVAE/final-analysis/Runs_run_overview.csv\n",
      "pareto epoch not in full_par_dict for run: 2021-06-02-YELP | DECODER-ONLY-run-13:01:04\n",
      "pareto epoch not in full_par_dict for run: 2021-06-02-PTB | DECODER-ONLY-run-13:01:37\n",
      "Reading last checkpoint and extracting pareto dict and saving it to a pickle.\n",
      "Reading all pareto dicts and calculating best checkpoint, saving it to a csv\n",
      "error in calc_weighted_pareto_best_checkpoint list index out of range\n",
      "error in calc_weighted_pareto_best_checkpoint list index out of range\n",
      "error in calc_weighted_pareto_best_checkpoint list index out of range\n",
      "--------------------------------------------------\n",
      "Making run overview, based on dir: /home/cbarkhof/code-thesis/NewsVAE/Runs-ablation\n",
      "Making run overview of /home/cbarkhof/code-thesis/NewsVAE/Runs-ablation, in /home/cbarkhof/code-thesis/NewsVAE/final-analysis/Runs-ablation_run_overview.csv\n",
      "Reading last checkpoint and extracting pareto dict and saving it to a pickle.\n",
      "Reading all pareto dicts and calculating best checkpoint, saving it to a csv\n",
      "--------------------------------------------------\n",
      "Making run overview, based on dir: /home/cbarkhof/code-thesis/NewsVAE/Runs-target-rate\n",
      "Making run overview of /home/cbarkhof/code-thesis/NewsVAE/Runs-target-rate, in /home/cbarkhof/code-thesis/NewsVAE/final-analysis/Runs-target-rate_run_overview.csv\n",
      "Reading last checkpoint and extracting pareto dict and saving it to a pickle.\n",
      "Reading all pareto dicts and calculating best checkpoint, saving it to a csv\n",
      "--------------------------------------------------\n",
      "Making run overview, based on dir: /home/cbarkhof/code-thesis/NewsVAE/Runs-pretrain\n",
      "Making run overview of /home/cbarkhof/code-thesis/NewsVAE/Runs-pretrain, in /home/cbarkhof/code-thesis/NewsVAE/final-analysis/Runs-pretrain_run_overview.csv\n",
      "Reading last checkpoint and extracting pareto dict and saving it to a pickle.\n",
      "Reading all pareto dicts and calculating best checkpoint, saving it to a csv\n",
      "--------------------------------------------------\n"
     ]
    }
   ],
   "source": [
    "# Utils analysis\n",
    "from utils_analysis import *\n",
    "\n",
    "# Standard\n",
    "import torch\n",
    "import numpy as np\n",
    "import pandas as pd\n",
    "pd.set_option('display.float_format', '{:.2f}'.format)\n",
    "import os\n",
    "import sys; sys.path.append(\"../\")\n",
    "\n",
    "# Plotting\n",
    "import matplotlib.pyplot as plt\n",
    "import seaborn as sns; sns.set()\n",
    "%matplotlib inline\n",
    "%config InlineBackend.figure_format='retina'"
   ]
  },
  {
   "cell_type": "code",
   "execution_count": 2,
   "metadata": {},
   "outputs": [
    {
     "data": {
      "text/html": [
       "<div>\n",
       "<style scoped>\n",
       "    .dataframe tbody tr th:only-of-type {\n",
       "        vertical-align: middle;\n",
       "    }\n",
       "\n",
       "    .dataframe tbody tr th {\n",
       "        vertical-align: top;\n",
       "    }\n",
       "\n",
       "    .dataframe thead th {\n",
       "        text-align: right;\n",
       "    }\n",
       "</style>\n",
       "<table border=\"1\" class=\"dataframe\">\n",
       "  <thead>\n",
       "    <tr style=\"text-align: right;\">\n",
       "      <th></th>\n",
       "      <th>run_name</th>\n",
       "      <th>clean_name</th>\n",
       "      <th>mech_string</th>\n",
       "      <th>dataset</th>\n",
       "      <th>optimisation</th>\n",
       "      <th>drop</th>\n",
       "      <th>target_rate</th>\n",
       "      <th>matrix</th>\n",
       "      <th>emb</th>\n",
       "      <th>mem</th>\n",
       "      <th>run_id</th>\n",
       "      <th>efficient_epochs</th>\n",
       "      <th>max pareto logged epoch</th>\n",
       "      <th>n_checkpoints</th>\n",
       "      <th>checkpoints</th>\n",
       "    </tr>\n",
       "  </thead>\n",
       "  <tbody>\n",
       "    <tr>\n",
       "      <th>0</th>\n",
       "      <td>2021-05-31-YELP | MDR-0.5 | matrix-memory | DR...</td>\n",
       "      <td>YELP | MDR-0.5 | matrix+mem | DROP 40</td>\n",
       "      <td>matrix+mem</td>\n",
       "      <td>YELP</td>\n",
       "      <td>MDR-0.5</td>\n",
       "      <td>0.40</td>\n",
       "      <td>0.50</td>\n",
       "      <td>True</td>\n",
       "      <td>False</td>\n",
       "      <td>True</td>\n",
       "      <td>jyecfab2</td>\n",
       "      <td>[7, 8, 9]</td>\n",
       "      <td>9.00</td>\n",
       "      <td>3</td>\n",
       "      <td>['checkpoint-epoch-007-step-80008-iw-ll_186.pt...</td>\n",
       "    </tr>\n",
       "    <tr>\n",
       "      <th>1</th>\n",
       "      <td>2021-05-24-PTB | CYC-FB-0.5 | matrix-memory-ru...</td>\n",
       "      <td>PTB | CYC-FB-0.5 | matrix+mem</td>\n",
       "      <td>matrix+mem</td>\n",
       "      <td>PTB</td>\n",
       "      <td>CYC-FB-0.5</td>\n",
       "      <td>0.00</td>\n",
       "      <td>0.50</td>\n",
       "      <td>True</td>\n",
       "      <td>False</td>\n",
       "      <td>True</td>\n",
       "      <td>2qix2cow</td>\n",
       "      <td>[4, 5, 6, 7, 9, 10, 11, 13, 14, 15]</td>\n",
       "      <td>18.00</td>\n",
       "      <td>3</td>\n",
       "      <td>['checkpoint-epoch-005-step-6312-iw-ll_094.pth...</td>\n",
       "    </tr>\n",
       "    <tr>\n",
       "      <th>2</th>\n",
       "      <td>2021-05-26-YELP | VAE | matrix-run-20:28:49</td>\n",
       "      <td>YELP | VAE | matrix</td>\n",
       "      <td>matrix</td>\n",
       "      <td>YELP</td>\n",
       "      <td>VAE</td>\n",
       "      <td>0.00</td>\n",
       "      <td>0.00</td>\n",
       "      <td>True</td>\n",
       "      <td>False</td>\n",
       "      <td>False</td>\n",
       "      <td>2m5hfzx1</td>\n",
       "      <td>[2, 3, 8, 9]</td>\n",
       "      <td>9.00</td>\n",
       "      <td>4</td>\n",
       "      <td>['checkpoint-epoch-002-step-30003-iw-ll_180.pt...</td>\n",
       "    </tr>\n",
       "    <tr>\n",
       "      <th>3</th>\n",
       "      <td>2021-05-30-YELP | CYC-FB-0.5 | matrix-memory-r...</td>\n",
       "      <td>YELP | CYC-FB-0.5 | matrix+mem</td>\n",
       "      <td>matrix+mem</td>\n",
       "      <td>YELP</td>\n",
       "      <td>CYC-FB-0.5</td>\n",
       "      <td>0.00</td>\n",
       "      <td>0.50</td>\n",
       "      <td>True</td>\n",
       "      <td>False</td>\n",
       "      <td>True</td>\n",
       "      <td>3g9csahz</td>\n",
       "      <td>[7, 8]</td>\n",
       "      <td>9.00</td>\n",
       "      <td>2</td>\n",
       "      <td>['checkpoint-epoch-007-step-80008-iw-ll_184.pt...</td>\n",
       "    </tr>\n",
       "    <tr>\n",
       "      <th>4</th>\n",
       "      <td>2021-05-31-YELP | MDR-0.5 | memory-embeddings ...</td>\n",
       "      <td>YELP | MDR-0.5 | mem+emb | DROP 40</td>\n",
       "      <td>mem+emb</td>\n",
       "      <td>YELP</td>\n",
       "      <td>MDR-0.5</td>\n",
       "      <td>0.40</td>\n",
       "      <td>0.50</td>\n",
       "      <td>False</td>\n",
       "      <td>True</td>\n",
       "      <td>True</td>\n",
       "      <td>s8nwyhu2</td>\n",
       "      <td>[8, 9]</td>\n",
       "      <td>9.00</td>\n",
       "      <td>2</td>\n",
       "      <td>['checkpoint-epoch-008-step-45711-iw-ll_181.pt...</td>\n",
       "    </tr>\n",
       "    <tr>\n",
       "      <th>...</th>\n",
       "      <td>...</td>\n",
       "      <td>...</td>\n",
       "      <td>...</td>\n",
       "      <td>...</td>\n",
       "      <td>...</td>\n",
       "      <td>...</td>\n",
       "      <td>...</td>\n",
       "      <td>...</td>\n",
       "      <td>...</td>\n",
       "      <td>...</td>\n",
       "      <td>...</td>\n",
       "      <td>...</td>\n",
       "      <td>...</td>\n",
       "      <td>...</td>\n",
       "      <td>...</td>\n",
       "    </tr>\n",
       "    <tr>\n",
       "      <th>58</th>\n",
       "      <td>2021-06-06-YELP | AE | memory-run-15:12:30</td>\n",
       "      <td>YELP | AE | mem</td>\n",
       "      <td>mem</td>\n",
       "      <td>YELP</td>\n",
       "      <td>AE</td>\n",
       "      <td>0.00</td>\n",
       "      <td>-0.00</td>\n",
       "      <td>False</td>\n",
       "      <td>False</td>\n",
       "      <td>True</td>\n",
       "      <td>97zv4w6j</td>\n",
       "      <td>[0, 1, 2, 3, 4, 5, 6, 8, 9]</td>\n",
       "      <td>9.00</td>\n",
       "      <td>5</td>\n",
       "      <td>['checkpoint-epoch-004-step-25395-iw-ll_393.pt...</td>\n",
       "    </tr>\n",
       "    <tr>\n",
       "      <th>59</th>\n",
       "      <td>2021-06-06-YELP | AE | memory-embeddings-run-1...</td>\n",
       "      <td>YELP | AE | mem+emb</td>\n",
       "      <td>mem+emb</td>\n",
       "      <td>YELP</td>\n",
       "      <td>AE</td>\n",
       "      <td>0.00</td>\n",
       "      <td>-0.00</td>\n",
       "      <td>False</td>\n",
       "      <td>True</td>\n",
       "      <td>True</td>\n",
       "      <td>obe4ywii</td>\n",
       "      <td>[0, 1, 2, 3, 4, 5, 6, 7, 8, 9]</td>\n",
       "      <td>9.00</td>\n",
       "      <td>5</td>\n",
       "      <td>['checkpoint-epoch-005-step-30474-iw-ll_358.pt...</td>\n",
       "    </tr>\n",
       "    <tr>\n",
       "      <th>60</th>\n",
       "      <td>2021-06-07-PTB | MDR-0.5 | memory-run-07:46:12</td>\n",
       "      <td>PTB | MDR-0.5 | mem</td>\n",
       "      <td>mem</td>\n",
       "      <td>PTB</td>\n",
       "      <td>MDR-0.5</td>\n",
       "      <td>0.00</td>\n",
       "      <td>0.50</td>\n",
       "      <td>False</td>\n",
       "      <td>False</td>\n",
       "      <td>True</td>\n",
       "      <td>3rin8925</td>\n",
       "      <td>[1, 2, 4, 5, 6, 7, 8, 9, 10, 11, 12, 13, 15, 1...</td>\n",
       "      <td>19.00</td>\n",
       "      <td>5</td>\n",
       "      <td>['checkpoint-epoch-012-step-4277-iw-ll_092.pth...</td>\n",
       "    </tr>\n",
       "    <tr>\n",
       "      <th>61</th>\n",
       "      <td>2021-06-07-PTB | MDR-0.5 | memory | DROP 40-ru...</td>\n",
       "      <td>PTB | MDR-0.5 | mem | DROP 40</td>\n",
       "      <td>mem</td>\n",
       "      <td>PTB</td>\n",
       "      <td>MDR-0.5</td>\n",
       "      <td>0.40</td>\n",
       "      <td>0.50</td>\n",
       "      <td>False</td>\n",
       "      <td>False</td>\n",
       "      <td>True</td>\n",
       "      <td>vyepl3iz</td>\n",
       "      <td>[2, 3, 4, 7, 9, 10, 12, 19]</td>\n",
       "      <td>19.00</td>\n",
       "      <td>5</td>\n",
       "      <td>['checkpoint-epoch-007-step-2632-iw-ll_095.pth...</td>\n",
       "    </tr>\n",
       "    <tr>\n",
       "      <th>62</th>\n",
       "      <td>2021-06-07-PTB | AE | matrix-memory-run-22:34:56</td>\n",
       "      <td>PTB | AE | matrix+mem</td>\n",
       "      <td>matrix+mem</td>\n",
       "      <td>PTB</td>\n",
       "      <td>AE</td>\n",
       "      <td>0.00</td>\n",
       "      <td>-0.00</td>\n",
       "      <td>True</td>\n",
       "      <td>False</td>\n",
       "      <td>True</td>\n",
       "      <td>2qdb1d24</td>\n",
       "      <td>[10]</td>\n",
       "      <td>13.00</td>\n",
       "      <td>1</td>\n",
       "      <td>['checkpoint-epoch-010-step-11572-iw-ll_000.pth']</td>\n",
       "    </tr>\n",
       "  </tbody>\n",
       "</table>\n",
       "<p>63 rows × 15 columns</p>\n",
       "</div>"
      ],
      "text/plain": [
       "                                             run_name  \\\n",
       "0   2021-05-31-YELP | MDR-0.5 | matrix-memory | DR...   \n",
       "1   2021-05-24-PTB | CYC-FB-0.5 | matrix-memory-ru...   \n",
       "2         2021-05-26-YELP | VAE | matrix-run-20:28:49   \n",
       "3   2021-05-30-YELP | CYC-FB-0.5 | matrix-memory-r...   \n",
       "4   2021-05-31-YELP | MDR-0.5 | memory-embeddings ...   \n",
       "..                                                ...   \n",
       "58         2021-06-06-YELP | AE | memory-run-15:12:30   \n",
       "59  2021-06-06-YELP | AE | memory-embeddings-run-1...   \n",
       "60     2021-06-07-PTB | MDR-0.5 | memory-run-07:46:12   \n",
       "61  2021-06-07-PTB | MDR-0.5 | memory | DROP 40-ru...   \n",
       "62   2021-06-07-PTB | AE | matrix-memory-run-22:34:56   \n",
       "\n",
       "                               clean_name mech_string dataset optimisation  \\\n",
       "0   YELP | MDR-0.5 | matrix+mem | DROP 40  matrix+mem    YELP      MDR-0.5   \n",
       "1           PTB | CYC-FB-0.5 | matrix+mem  matrix+mem     PTB   CYC-FB-0.5   \n",
       "2                     YELP | VAE | matrix      matrix    YELP          VAE   \n",
       "3          YELP | CYC-FB-0.5 | matrix+mem  matrix+mem    YELP   CYC-FB-0.5   \n",
       "4      YELP | MDR-0.5 | mem+emb | DROP 40     mem+emb    YELP      MDR-0.5   \n",
       "..                                    ...         ...     ...          ...   \n",
       "58                        YELP | AE | mem         mem    YELP           AE   \n",
       "59                    YELP | AE | mem+emb     mem+emb    YELP           AE   \n",
       "60                    PTB | MDR-0.5 | mem         mem     PTB      MDR-0.5   \n",
       "61          PTB | MDR-0.5 | mem | DROP 40         mem     PTB      MDR-0.5   \n",
       "62                  PTB | AE | matrix+mem  matrix+mem     PTB           AE   \n",
       "\n",
       "    drop  target_rate  matrix    emb    mem    run_id  \\\n",
       "0   0.40         0.50    True  False   True  jyecfab2   \n",
       "1   0.00         0.50    True  False   True  2qix2cow   \n",
       "2   0.00         0.00    True  False  False  2m5hfzx1   \n",
       "3   0.00         0.50    True  False   True  3g9csahz   \n",
       "4   0.40         0.50   False   True   True  s8nwyhu2   \n",
       "..   ...          ...     ...    ...    ...       ...   \n",
       "58  0.00        -0.00   False  False   True  97zv4w6j   \n",
       "59  0.00        -0.00   False   True   True  obe4ywii   \n",
       "60  0.00         0.50   False  False   True  3rin8925   \n",
       "61  0.40         0.50   False  False   True  vyepl3iz   \n",
       "62  0.00        -0.00    True  False   True  2qdb1d24   \n",
       "\n",
       "                                     efficient_epochs  \\\n",
       "0                                           [7, 8, 9]   \n",
       "1                 [4, 5, 6, 7, 9, 10, 11, 13, 14, 15]   \n",
       "2                                        [2, 3, 8, 9]   \n",
       "3                                              [7, 8]   \n",
       "4                                              [8, 9]   \n",
       "..                                                ...   \n",
       "58                        [0, 1, 2, 3, 4, 5, 6, 8, 9]   \n",
       "59                     [0, 1, 2, 3, 4, 5, 6, 7, 8, 9]   \n",
       "60  [1, 2, 4, 5, 6, 7, 8, 9, 10, 11, 12, 13, 15, 1...   \n",
       "61                        [2, 3, 4, 7, 9, 10, 12, 19]   \n",
       "62                                               [10]   \n",
       "\n",
       "    max pareto logged epoch  n_checkpoints  \\\n",
       "0                      9.00              3   \n",
       "1                     18.00              3   \n",
       "2                      9.00              4   \n",
       "3                      9.00              2   \n",
       "4                      9.00              2   \n",
       "..                      ...            ...   \n",
       "58                     9.00              5   \n",
       "59                     9.00              5   \n",
       "60                    19.00              5   \n",
       "61                    19.00              5   \n",
       "62                    13.00              1   \n",
       "\n",
       "                                          checkpoints  \n",
       "0   ['checkpoint-epoch-007-step-80008-iw-ll_186.pt...  \n",
       "1   ['checkpoint-epoch-005-step-6312-iw-ll_094.pth...  \n",
       "2   ['checkpoint-epoch-002-step-30003-iw-ll_180.pt...  \n",
       "3   ['checkpoint-epoch-007-step-80008-iw-ll_184.pt...  \n",
       "4   ['checkpoint-epoch-008-step-45711-iw-ll_181.pt...  \n",
       "..                                                ...  \n",
       "58  ['checkpoint-epoch-004-step-25395-iw-ll_393.pt...  \n",
       "59  ['checkpoint-epoch-005-step-30474-iw-ll_358.pt...  \n",
       "60  ['checkpoint-epoch-012-step-4277-iw-ll_092.pth...  \n",
       "61  ['checkpoint-epoch-007-step-2632-iw-ll_095.pth...  \n",
       "62  ['checkpoint-epoch-010-step-11572-iw-ll_000.pth']  \n",
       "\n",
       "[63 rows x 15 columns]"
      ]
     },
     "execution_count": 2,
     "metadata": {},
     "output_type": "execute_result"
    }
   ],
   "source": [
    "exp_name = \"Runs\"\n",
    "df = read_overview_csv(exp_name=exp_name)\n",
    "df"
   ]
  },
  {
   "cell_type": "code",
   "execution_count": 3,
   "metadata": {
    "scrolled": true
   },
   "outputs": [
    {
     "name": "stdout",
     "output_type": "stream",
     "text": [
      "PTB | MDR-0.5 | matrix+mem\n"
     ]
    },
    {
     "data": {
      "image/png": "[encoded data removed]",
      "text/plain": [
       "<Figure size 432x288 with 1 Axes>"
      ]
     },
     "metadata": {
      "image/png": {
       "height": 45,
       "width": 349
      },
      "needs_background": "light"
     },
     "output_type": "display_data"
    },
    {
     "data": {
      "image/png": "[encoded data removed]",
      "text/plain": [
       "<Figure size 432x288 with 1 Axes>"
      ]
     },
     "metadata": {
      "image/png": {
       "height": 45,
       "width": 349
      },
      "needs_background": "light"
     },
     "output_type": "display_data"
    },
    {
     "data": {
      "image/png": "[encoded data removed]",
      "text/plain": [
       "<Figure size 432x288 with 1 Axes>"
      ]
     },
     "metadata": {
      "image/png": {
       "height": 45,
       "width": 349
      },
      "needs_background": "light"
     },
     "output_type": "display_data"
    },
    {
     "name": "stdout",
     "output_type": "stream",
     "text": [
      "PTB | MDR-0.5 | mem+emb\n"
     ]
    },
    {
     "data": {
      "image/png": "[encoded data removed]",
      "text/plain": [
       "<Figure size 432x288 with 1 Axes>"
      ]
     },
     "metadata": {
      "image/png": {
       "height": 45,
       "width": 349
      },
      "needs_background": "light"
     },
     "output_type": "display_data"
    },
    {
     "data": {
      "image/png": "[encoded data removed]",
      "text/plain": [
       "<Figure size 432x288 with 1 Axes>"
      ]
     },
     "metadata": {
      "image/png": {
       "height": 45,
       "width": 349
      },
      "needs_background": "light"
     },
     "output_type": "display_data"
    },
    {
     "data": {
      "image/png": "[encoded data removed]",
      "text/plain": [
       "<Figure size 432x288 with 1 Axes>"
      ]
     },
     "metadata": {
      "image/png": {
       "height": 45,
       "width": 349
      },
      "needs_background": "light"
     },
     "output_type": "display_data"
    },
    {
     "name": "stdout",
     "output_type": "stream",
     "text": [
      "PTB | MDR-0.5 | mem+emb | DROP 40\n"
     ]
    },
    {
     "data": {
      "image/png": "[encoded data removed]",
      "text/plain": [
       "<Figure size 432x288 with 1 Axes>"
      ]
     },
     "metadata": {
      "image/png": {
       "height": 45,
       "width": 349
      },
      "needs_background": "light"
     },
     "output_type": "display_data"
    },
    {
     "data": {
      "image/png": "[encoded data removed]",
      "text/plain": [
       "<Figure size 432x288 with 1 Axes>"
      ]
     },
     "metadata": {
      "image/png": {
       "height": 45,
       "width": 349
      },
      "needs_background": "light"
     },
     "output_type": "display_data"
    },
    {
     "data": {
      "image/png": "[encoded data removed]",
      "text/plain": [
       "<Figure size 432x288 with 1 Axes>"
      ]
     },
     "metadata": {
      "image/png": {
       "height": 45,
       "width": 349
      },
      "needs_background": "light"
     },
     "output_type": "display_data"
    },
    {
     "name": "stdout",
     "output_type": "stream",
     "text": [
      "PTB | MDR-0.5 | matrix\n"
     ]
    },
    {
     "data": {
      "image/png": "[encoded data removed]",
      "text/plain": [
       "<Figure size 432x288 with 1 Axes>"
      ]
     },
     "metadata": {
      "image/png": {
       "height": 45,
       "width": 349
      },
      "needs_background": "light"
     },
     "output_type": "display_data"
    },
    {
     "data": {
      "image/png": "[encoded data removed]",
      "text/plain": [
       "<Figure size 432x288 with 1 Axes>"
      ]
     },
     "metadata": {
      "image/png": {
       "height": 45,
       "width": 349
      },
      "needs_background": "light"
     },
     "output_type": "display_data"
    },
    {
     "data": {
      "image/png": "[encoded data removed]",
      "text/plain": [
       "<Figure size 432x288 with 1 Axes>"
      ]
     },
     "metadata": {
      "image/png": {
       "height": 45,
       "width": 349
      },
      "needs_background": "light"
     },
     "output_type": "display_data"
    },
    {
     "name": "stdout",
     "output_type": "stream",
     "text": [
      "PTB | MDR-0.5 | matrix | DROP 40\n"
     ]
    },
    {
     "data": {
      "image/png": "[encoded data removed]",
      "text/plain": [
       "<Figure size 432x288 with 1 Axes>"
      ]
     },
     "metadata": {
      "image/png": {
       "height": 45,
       "width": 349
      },
      "needs_background": "light"
     },
     "output_type": "display_data"
    },
    {
     "data": {
      "image/png": "[encoded data removed]",
      "text/plain": [
       "<Figure size 432x288 with 1 Axes>"
      ]
     },
     "metadata": {
      "image/png": {
       "height": 45,
       "width": 349
      },
      "needs_background": "light"
     },
     "output_type": "display_data"
    },
    {
     "data": {
      "image/png": "[encoded data removed]",
      "text/plain": [
       "<Figure size 432x288 with 1 Axes>"
      ]
     },
     "metadata": {
      "image/png": {
       "height": 45,
       "width": 349
      },
      "needs_background": "light"
     },
     "output_type": "display_data"
    },
    {
     "name": "stdout",
     "output_type": "stream",
     "text": [
      "PTB | MDR-0.5 | matrix+mem | DROP 40\n"
     ]
    },
    {
     "data": {
      "image/png": "[encoded data removed]",
      "text/plain": [
       "<Figure size 432x288 with 1 Axes>"
      ]
     },
     "metadata": {
      "image/png": {
       "height": 45,
       "width": 349
      },
      "needs_background": "light"
     },
     "output_type": "display_data"
    },
    {
     "data": {
      "image/png": "[encoded data removed]",
      "text/plain": [
       "<Figure size 432x288 with 1 Axes>"
      ]
     },
     "metadata": {
      "image/png": {
       "height": 45,
       "width": 349
      },
      "needs_background": "light"
     },
     "output_type": "display_data"
    },
    {
     "data": {
      "image/png": "[encoded data removed]",
      "text/plain": [
       "<Figure size 432x288 with 1 Axes>"
      ]
     },
     "metadata": {
      "image/png": {
       "height": 45,
       "width": 349
      },
      "needs_background": "light"
     },
     "output_type": "display_data"
    },
    {
     "name": "stdout",
     "output_type": "stream",
     "text": [
      "PTB | MDR-0.5 | mem\n"
     ]
    },
    {
     "data": {
      "image/png": "[encoded data removed]",
      "text/plain": [
       "<Figure size 432x288 with 1 Axes>"
      ]
     },
     "metadata": {
      "image/png": {
       "height": 45,
       "width": 349
      },
      "needs_background": "light"
     },
     "output_type": "display_data"
    },
    {
     "data": {
      "image/png": "[encoded data removed]",
      "text/plain": [
       "<Figure size 432x288 with 1 Axes>"
      ]
     },
     "metadata": {
      "image/png": {
       "height": 45,
       "width": 349
      },
      "needs_background": "light"
     },
     "output_type": "display_data"
    },
    {
     "data": {
      "image/png": "[encoded data removed]",
      "text/plain": [
       "<Figure size 432x288 with 1 Axes>"
      ]
     },
     "metadata": {
      "image/png": {
       "height": 45,
       "width": 349
      },
      "needs_background": "light"
     },
     "output_type": "display_data"
    },
    {
     "name": "stdout",
     "output_type": "stream",
     "text": [
      "PTB | MDR-0.5 | mem | DROP 40\n"
     ]
    },
    {
     "data": {
      "image/png": "[encoded data removed]",
      "text/plain": [
       "<Figure size 432x288 with 1 Axes>"
      ]
     },
     "metadata": {
      "image/png": {
       "height": 45,
       "width": 349
      },
      "needs_background": "light"
     },
     "output_type": "display_data"
    },
    {
     "data": {
      "image/png": "[encoded data removed]",
      "text/plain": [
       "<Figure size 432x288 with 1 Axes>"
      ]
     },
     "metadata": {
      "image/png": {
       "height": 45,
       "width": 349
      },
      "needs_background": "light"
     },
     "output_type": "display_data"
    },
    {
     "data": {
      "image/png": "[encoded data removed]",
      "text/plain": [
       "<Figure size 432x288 with 1 Axes>"
      ]
     },
     "metadata": {
      "image/png": {
       "height": 45,
       "width": 349
      },
      "needs_background": "light"
     },
     "output_type": "display_data"
    }
   ],
   "source": [
    "from utils_evaluation import load_pickle\n",
    "from scipy import stats\n",
    "\n",
    "N_EXP = 5\n",
    "BS = 64\n",
    "MAX_BATCHES = 4\n",
    "    \n",
    "df_select = df[(df[\"optimisation\"] == \"MDR-0.5\") & (df[\"dataset\"] == \"PTB\")]\n",
    "    \n",
    "for row_i, row in df_select.iterrows():\n",
    "    # run_name, clean_name\n",
    "    run_name = row[\"run_name\"]\n",
    "    clean_name = row[\"clean_name\"]\n",
    "    \n",
    "    print(clean_name)\n",
    "    \n",
    "    jsd_file = f\"{RES_FILE_DIR}/{exp_name}/{run_name}/result_JSD_over_seq_N_EXP_{N_EXP}_MAX_BATCHES_{MAX_BATCHES}_BS_{BS}.pickle\"\n",
    "    \n",
    "    \n",
    "    if os.path.exists(jsd_file):\n",
    "        jsd_results = load_pickle(jsd_file)\n",
    "        \n",
    "        # keys: jsd_over_seq', 'jsd_post_post', 'jsd_prior_post', 'label_masks'\n",
    "        # values: all tensors of shape [N_exp * BS * MAX_BATCHES, max_seq_len-1] = [1280, 63]\n",
    "        \n",
    "        for k in jsd_results.keys():\n",
    "            jsd_results[k] = jsd_results[k].reshape(N_EXP, MAX_BATCHES*BS, -1)\n",
    "            #print(jsd_results[k].shape)\n",
    "            \n",
    "        jsd_results[\"jsd_post_post_avg\"] = jsd_results[\"jsd_post_post\"].mean(dim=0)\n",
    "        jsd_results[\"jsd_prior_post_avg\"] = jsd_results[\"jsd_prior_post\"].mean(dim=0)\n",
    "        jsd_results[\"masks\"] = jsd_results[\"label_masks\"].mean(dim=0)\n",
    "        \n",
    "        N_bins = 63\n",
    "        n_samples, max_len = jsd_results[\"jsd_post_post_avg\"].shape\n",
    "        seq_lens = jsd_results[\"masks\"].sum(dim=1)\n",
    "        positions = torch.arange(1, max_len + 1).unsqueeze(0).repeat(n_samples, 1)\n",
    "        relative_positions = positions / seq_lens.unsqueeze(1)\n",
    "        \n",
    "        jsd_results[\"jsd_post_post_avg_masked\"] = torch.masked_select(jsd_results[\"jsd_post_post_avg\"], jsd_results[\"masks\"] == 1.0)\n",
    "        jsd_results[\"jsd_prior_post_avg_masked\"] = torch.masked_select(jsd_results[\"jsd_prior_post_avg\"], jsd_results[\"masks\"] == 1.0)\n",
    "        jsd_results[\"jsd_total_dif_masked\"] = jsd_results[\"jsd_prior_post_avg_masked\"] - jsd_results[\"jsd_post_post_avg_masked\"]\n",
    "        \n",
    "        relative_positions_masked = torch.masked_select(relative_positions, jsd_results[\"masks\"] == 1.0)\n",
    "        bin_means, bin_edges, bin_ids = stats.binned_statistic(relative_positions_masked.tolist(), jsd_results[\"jsd_total_dif_masked\"].tolist(),\n",
    "                                                               statistic='mean', bins=N_bins)\n",
    "        \n",
    "        plt.imshow(bin_means[None, :], aspect=3.0, cmap=\"viridis\") #vmin=0.0, vmax=2.0, \n",
    "        plt.title(\"prior post - post post\")\n",
    "        plt.axis(\"off\")\n",
    "        plt.show()\n",
    "        \n",
    "        bin_means, bin_edges, bin_ids = stats.binned_statistic(relative_positions_masked.tolist(), jsd_results[\"jsd_prior_post_avg_masked\"].tolist(),\n",
    "                                                               statistic='mean', bins=N_bins)\n",
    "        \n",
    "        plt.imshow(bin_means[None, :], aspect=3.0, cmap=\"viridis\") #vmin=0.0, vmax=2.0, \n",
    "        plt.title(\"prior post\")\n",
    "        plt.axis(\"off\")\n",
    "        plt.show()\n",
    "        \n",
    "        bin_means, bin_edges, bin_ids = stats.binned_statistic(relative_positions_masked.tolist(), jsd_results[\"jsd_post_post_avg_masked\"].tolist(),\n",
    "                                                               statistic='mean', bins=N_bins)\n",
    "        plt.imshow(bin_means[None, :], aspect=3.0, cmap=\"viridis\") #vmin=0.0, vmax=2.0, \n",
    "        plt.title(\"post post\")\n",
    "        plt.axis(\"off\")\n",
    "        plt.show()\n",
    "        \n",
    "        #break"
   ]
  },
  {
   "cell_type": "code",
   "execution_count": 4,
   "metadata": {},
   "outputs": [
    {
     "data": {
      "text/html": [
       "<div>\n",
       "<style scoped>\n",
       "    .dataframe tbody tr th:only-of-type {\n",
       "        vertical-align: middle;\n",
       "    }\n",
       "\n",
       "    .dataframe tbody tr th {\n",
       "        vertical-align: top;\n",
       "    }\n",
       "\n",
       "    .dataframe thead th {\n",
       "        text-align: right;\n",
       "    }\n",
       "</style>\n",
       "<table border=\"1\" class=\"dataframe\">\n",
       "  <thead>\n",
       "    <tr style=\"text-align: right;\">\n",
       "      <th></th>\n",
       "      <th>run_name</th>\n",
       "      <th>clean_name</th>\n",
       "      <th>mech_string</th>\n",
       "      <th>dataset</th>\n",
       "      <th>optimisation</th>\n",
       "      <th>drop</th>\n",
       "      <th>target_rate</th>\n",
       "      <th>matrix</th>\n",
       "      <th>emb</th>\n",
       "      <th>mem</th>\n",
       "      <th>run_id</th>\n",
       "      <th>efficient_epochs</th>\n",
       "      <th>max pareto logged epoch</th>\n",
       "      <th>n_checkpoints</th>\n",
       "      <th>checkpoints</th>\n",
       "    </tr>\n",
       "  </thead>\n",
       "  <tbody>\n",
       "    <tr>\n",
       "      <th>12</th>\n",
       "      <td>2021-05-22-PTB | CYC-FB-0.5 | memory-run-02:03:27</td>\n",
       "      <td>PTB | CYC-FB-0.5 | mem</td>\n",
       "      <td>mem</td>\n",
       "      <td>PTB</td>\n",
       "      <td>CYC-FB-0.5</td>\n",
       "      <td>0.00</td>\n",
       "      <td>0.50</td>\n",
       "      <td>False</td>\n",
       "      <td>False</td>\n",
       "      <td>True</td>\n",
       "      <td>27oka9vj</td>\n",
       "      <td>[0, 1, 2, 3, 4]</td>\n",
       "      <td>7.00</td>\n",
       "      <td>5</td>\n",
       "      <td>['checkpoint-epoch-000-step-329-iw-ll_097.pth'...</td>\n",
       "    </tr>\n",
       "    <tr>\n",
       "      <th>13</th>\n",
       "      <td>2021-05-22-PTB | CYC-FB-0.5 | memory | DROP 40...</td>\n",
       "      <td>PTB | CYC-FB-0.5 | mem | DROP 40</td>\n",
       "      <td>mem</td>\n",
       "      <td>PTB</td>\n",
       "      <td>CYC-FB-0.5</td>\n",
       "      <td>0.40</td>\n",
       "      <td>0.50</td>\n",
       "      <td>False</td>\n",
       "      <td>False</td>\n",
       "      <td>True</td>\n",
       "      <td>2wp5209z</td>\n",
       "      <td>[0, 1]</td>\n",
       "      <td>4.00</td>\n",
       "      <td>2</td>\n",
       "      <td>['checkpoint-epoch-000-step-329-iw-ll_101.pth'...</td>\n",
       "    </tr>\n",
       "    <tr>\n",
       "      <th>14</th>\n",
       "      <td>2021-05-22-PTB | CYC-FB-0.5 | memory-embedding...</td>\n",
       "      <td>PTB | CYC-FB-0.5 | mem+emb</td>\n",
       "      <td>mem+emb</td>\n",
       "      <td>PTB</td>\n",
       "      <td>CYC-FB-0.5</td>\n",
       "      <td>0.00</td>\n",
       "      <td>0.50</td>\n",
       "      <td>False</td>\n",
       "      <td>True</td>\n",
       "      <td>True</td>\n",
       "      <td>195gipld</td>\n",
       "      <td>[4]</td>\n",
       "      <td>7.00</td>\n",
       "      <td>1</td>\n",
       "      <td>['checkpoint-epoch-004-step-1645-iw-ll_093.pth']</td>\n",
       "    </tr>\n",
       "    <tr>\n",
       "      <th>15</th>\n",
       "      <td>2021-05-22-PTB | CYC-FB-0.5 | memory-embedding...</td>\n",
       "      <td>PTB | CYC-FB-0.5 | mem+emb | DROP 40</td>\n",
       "      <td>mem+emb</td>\n",
       "      <td>PTB</td>\n",
       "      <td>CYC-FB-0.5</td>\n",
       "      <td>0.40</td>\n",
       "      <td>0.50</td>\n",
       "      <td>False</td>\n",
       "      <td>True</td>\n",
       "      <td>True</td>\n",
       "      <td>1ufo17lu</td>\n",
       "      <td>[4, 6]</td>\n",
       "      <td>9.00</td>\n",
       "      <td>2</td>\n",
       "      <td>['checkpoint-epoch-004-step-1645-iw-ll_099.pth...</td>\n",
       "    </tr>\n",
       "    <tr>\n",
       "      <th>22</th>\n",
       "      <td>2021-05-22-PTB | MDR-0.5 | memory-embeddings-r...</td>\n",
       "      <td>PTB | MDR-0.5 | mem+emb</td>\n",
       "      <td>mem+emb</td>\n",
       "      <td>PTB</td>\n",
       "      <td>MDR-0.5</td>\n",
       "      <td>0.00</td>\n",
       "      <td>0.50</td>\n",
       "      <td>False</td>\n",
       "      <td>True</td>\n",
       "      <td>True</td>\n",
       "      <td>2yif94d1</td>\n",
       "      <td>[8, 9, 11, 13, 14, 15]</td>\n",
       "      <td>19.00</td>\n",
       "      <td>5</td>\n",
       "      <td>['checkpoint-epoch-009-step-3290-iw-ll_089.pth...</td>\n",
       "    </tr>\n",
       "    <tr>\n",
       "      <th>23</th>\n",
       "      <td>2021-05-22-PTB | MDR-0.5 | memory-embeddings |...</td>\n",
       "      <td>PTB | MDR-0.5 | mem+emb | DROP 40</td>\n",
       "      <td>mem+emb</td>\n",
       "      <td>PTB</td>\n",
       "      <td>MDR-0.5</td>\n",
       "      <td>0.40</td>\n",
       "      <td>0.50</td>\n",
       "      <td>False</td>\n",
       "      <td>True</td>\n",
       "      <td>True</td>\n",
       "      <td>1g74n9sz</td>\n",
       "      <td>[15, 17, 18]</td>\n",
       "      <td>19.00</td>\n",
       "      <td>3</td>\n",
       "      <td>['checkpoint-epoch-015-step-5264-iw-ll_088.pth...</td>\n",
       "    </tr>\n",
       "    <tr>\n",
       "      <th>60</th>\n",
       "      <td>2021-06-07-PTB | MDR-0.5 | memory-run-07:46:12</td>\n",
       "      <td>PTB | MDR-0.5 | mem</td>\n",
       "      <td>mem</td>\n",
       "      <td>PTB</td>\n",
       "      <td>MDR-0.5</td>\n",
       "      <td>0.00</td>\n",
       "      <td>0.50</td>\n",
       "      <td>False</td>\n",
       "      <td>False</td>\n",
       "      <td>True</td>\n",
       "      <td>3rin8925</td>\n",
       "      <td>[1, 2, 4, 5, 6, 7, 8, 9, 10, 11, 12, 13, 15, 1...</td>\n",
       "      <td>19.00</td>\n",
       "      <td>5</td>\n",
       "      <td>['checkpoint-epoch-012-step-4277-iw-ll_092.pth...</td>\n",
       "    </tr>\n",
       "    <tr>\n",
       "      <th>61</th>\n",
       "      <td>2021-06-07-PTB | MDR-0.5 | memory | DROP 40-ru...</td>\n",
       "      <td>PTB | MDR-0.5 | mem | DROP 40</td>\n",
       "      <td>mem</td>\n",
       "      <td>PTB</td>\n",
       "      <td>MDR-0.5</td>\n",
       "      <td>0.40</td>\n",
       "      <td>0.50</td>\n",
       "      <td>False</td>\n",
       "      <td>False</td>\n",
       "      <td>True</td>\n",
       "      <td>vyepl3iz</td>\n",
       "      <td>[2, 3, 4, 7, 9, 10, 12, 19]</td>\n",
       "      <td>19.00</td>\n",
       "      <td>5</td>\n",
       "      <td>['checkpoint-epoch-007-step-2632-iw-ll_095.pth...</td>\n",
       "    </tr>\n",
       "    <tr>\n",
       "      <th>5</th>\n",
       "      <td>2021-05-21-PTB | VAE | memory-run-05:50:37</td>\n",
       "      <td>PTB | VAE | mem</td>\n",
       "      <td>mem</td>\n",
       "      <td>PTB</td>\n",
       "      <td>VAE</td>\n",
       "      <td>0.00</td>\n",
       "      <td>0.00</td>\n",
       "      <td>False</td>\n",
       "      <td>False</td>\n",
       "      <td>True</td>\n",
       "      <td>b1ibcrel</td>\n",
       "      <td>[2, 3, 4, 6, 7, 8, 9]</td>\n",
       "      <td>19.00</td>\n",
       "      <td>3</td>\n",
       "      <td>['checkpoint-epoch-006-step-2303-iw-ll_087.pth...</td>\n",
       "    </tr>\n",
       "    <tr>\n",
       "      <th>6</th>\n",
       "      <td>2021-05-21-PTB | VAE | memory | DROP 40-run-05...</td>\n",
       "      <td>PTB | VAE | mem | DROP 40</td>\n",
       "      <td>mem</td>\n",
       "      <td>PTB</td>\n",
       "      <td>VAE</td>\n",
       "      <td>0.40</td>\n",
       "      <td>0.00</td>\n",
       "      <td>False</td>\n",
       "      <td>False</td>\n",
       "      <td>True</td>\n",
       "      <td>27v1n9u0</td>\n",
       "      <td>[0, 5, 6, 7, 8, 9, 12, 15, 17, 18, 19]</td>\n",
       "      <td>19.00</td>\n",
       "      <td>4</td>\n",
       "      <td>['checkpoint-epoch-009-step-3290-iw-ll_088.pth...</td>\n",
       "    </tr>\n",
       "    <tr>\n",
       "      <th>7</th>\n",
       "      <td>2021-05-21-PTB | VAE | memory-embeddings-run-0...</td>\n",
       "      <td>PTB | VAE | mem+emb</td>\n",
       "      <td>mem+emb</td>\n",
       "      <td>PTB</td>\n",
       "      <td>VAE</td>\n",
       "      <td>0.00</td>\n",
       "      <td>0.00</td>\n",
       "      <td>False</td>\n",
       "      <td>True</td>\n",
       "      <td>True</td>\n",
       "      <td>evvxxxs9</td>\n",
       "      <td>[2, 4, 5, 6, 7, 8, 9, 10]</td>\n",
       "      <td>19.00</td>\n",
       "      <td>2</td>\n",
       "      <td>['checkpoint-epoch-006-step-2303-iw-ll_086.pth...</td>\n",
       "    </tr>\n",
       "    <tr>\n",
       "      <th>8</th>\n",
       "      <td>2021-05-21-PTB | VAE | memory-embeddings | DRO...</td>\n",
       "      <td>PTB | VAE | mem+emb | DROP 40</td>\n",
       "      <td>mem+emb</td>\n",
       "      <td>PTB</td>\n",
       "      <td>VAE</td>\n",
       "      <td>0.40</td>\n",
       "      <td>0.00</td>\n",
       "      <td>False</td>\n",
       "      <td>True</td>\n",
       "      <td>True</td>\n",
       "      <td>12iqm2wx</td>\n",
       "      <td>[4, 5, 6, 7, 8, 9, 11, 12, 13, 15, 17]</td>\n",
       "      <td>19.00</td>\n",
       "      <td>3</td>\n",
       "      <td>['checkpoint-epoch-009-step-3290-iw-ll_088.pth...</td>\n",
       "    </tr>\n",
       "    <tr>\n",
       "      <th>20</th>\n",
       "      <td>2021-06-09-PTB | VAE | memory-embeddings | DRO...</td>\n",
       "      <td>PTB | VAE | mem+emb | DROP 60</td>\n",
       "      <td>mem+emb</td>\n",
       "      <td>PTB</td>\n",
       "      <td>VAE</td>\n",
       "      <td>0.60</td>\n",
       "      <td>0.00</td>\n",
       "      <td>False</td>\n",
       "      <td>True</td>\n",
       "      <td>True</td>\n",
       "      <td>3jf3fgyp</td>\n",
       "      <td>[3, 4, 6, 7, 9, 15, 17, 19]</td>\n",
       "      <td>19.00</td>\n",
       "      <td>8</td>\n",
       "      <td>['checkpoint-epoch-003-step-1316-iw-ll_097.pth...</td>\n",
       "    </tr>\n",
       "    <tr>\n",
       "      <th>21</th>\n",
       "      <td>2021-06-09-PTB | VAE | memory-embeddings | DRO...</td>\n",
       "      <td>PTB | VAE | mem+emb | DROP 80</td>\n",
       "      <td>mem+emb</td>\n",
       "      <td>PTB</td>\n",
       "      <td>VAE</td>\n",
       "      <td>0.80</td>\n",
       "      <td>0.00</td>\n",
       "      <td>False</td>\n",
       "      <td>True</td>\n",
       "      <td>True</td>\n",
       "      <td>14jup3i6</td>\n",
       "      <td>[13, 18, 19]</td>\n",
       "      <td>19.00</td>\n",
       "      <td>3</td>\n",
       "      <td>['checkpoint-epoch-013-step-4606-iw-ll_097.pth...</td>\n",
       "    </tr>\n",
       "    <tr>\n",
       "      <th>35</th>\n",
       "      <td>2021-05-23-YELP | CYC-FB-0.5 | memory-run-10:5...</td>\n",
       "      <td>YELP | CYC-FB-0.5 | mem</td>\n",
       "      <td>mem</td>\n",
       "      <td>YELP</td>\n",
       "      <td>CYC-FB-0.5</td>\n",
       "      <td>0.00</td>\n",
       "      <td>0.50</td>\n",
       "      <td>False</td>\n",
       "      <td>False</td>\n",
       "      <td>True</td>\n",
       "      <td>1j7vxbf7</td>\n",
       "      <td>[4, 5, 6]</td>\n",
       "      <td>7.00</td>\n",
       "      <td>3</td>\n",
       "      <td>['checkpoint-epoch-004-step-25395-iw-ll_184.pt...</td>\n",
       "    </tr>\n",
       "    <tr>\n",
       "      <th>36</th>\n",
       "      <td>2021-05-23-YELP | CYC-FB-0.5 | memory | DROP 4...</td>\n",
       "      <td>YELP | CYC-FB-0.5 | mem | DROP 40</td>\n",
       "      <td>mem</td>\n",
       "      <td>YELP</td>\n",
       "      <td>CYC-FB-0.5</td>\n",
       "      <td>0.40</td>\n",
       "      <td>0.50</td>\n",
       "      <td>False</td>\n",
       "      <td>False</td>\n",
       "      <td>True</td>\n",
       "      <td>2ah185pc</td>\n",
       "      <td>[1, 2, 5, 6]</td>\n",
       "      <td>7.00</td>\n",
       "      <td>4</td>\n",
       "      <td>['checkpoint-epoch-001-step-10158-iw-ll_196.pt...</td>\n",
       "    </tr>\n",
       "    <tr>\n",
       "      <th>37</th>\n",
       "      <td>2021-05-23-YELP | CYC-FB-0.5 | memory-embeddin...</td>\n",
       "      <td>YELP | CYC-FB-0.5 | mem+emb</td>\n",
       "      <td>mem+emb</td>\n",
       "      <td>YELP</td>\n",
       "      <td>CYC-FB-0.5</td>\n",
       "      <td>0.00</td>\n",
       "      <td>0.50</td>\n",
       "      <td>False</td>\n",
       "      <td>True</td>\n",
       "      <td>True</td>\n",
       "      <td>3no83sod</td>\n",
       "      <td>[2, 5, 6]</td>\n",
       "      <td>7.00</td>\n",
       "      <td>3</td>\n",
       "      <td>['checkpoint-epoch-002-step-15237-iw-ll_181.pt...</td>\n",
       "    </tr>\n",
       "    <tr>\n",
       "      <th>38</th>\n",
       "      <td>2021-05-23-YELP | CYC-FB-0.5 | memory-embeddin...</td>\n",
       "      <td>YELP | CYC-FB-0.5 | mem+emb | DROP 40</td>\n",
       "      <td>mem+emb</td>\n",
       "      <td>YELP</td>\n",
       "      <td>CYC-FB-0.5</td>\n",
       "      <td>0.40</td>\n",
       "      <td>0.50</td>\n",
       "      <td>False</td>\n",
       "      <td>True</td>\n",
       "      <td>True</td>\n",
       "      <td>1m9rzsvp</td>\n",
       "      <td>[2, 5, 6]</td>\n",
       "      <td>7.00</td>\n",
       "      <td>3</td>\n",
       "      <td>['checkpoint-epoch-002-step-15237-iw-ll_188.pt...</td>\n",
       "    </tr>\n",
       "    <tr>\n",
       "      <th>4</th>\n",
       "      <td>2021-05-31-YELP | MDR-0.5 | memory-embeddings ...</td>\n",
       "      <td>YELP | MDR-0.5 | mem+emb | DROP 40</td>\n",
       "      <td>mem+emb</td>\n",
       "      <td>YELP</td>\n",
       "      <td>MDR-0.5</td>\n",
       "      <td>0.40</td>\n",
       "      <td>0.50</td>\n",
       "      <td>False</td>\n",
       "      <td>True</td>\n",
       "      <td>True</td>\n",
       "      <td>s8nwyhu2</td>\n",
       "      <td>[8, 9]</td>\n",
       "      <td>9.00</td>\n",
       "      <td>2</td>\n",
       "      <td>['checkpoint-epoch-008-step-45711-iw-ll_181.pt...</td>\n",
       "    </tr>\n",
       "    <tr>\n",
       "      <th>39</th>\n",
       "      <td>2021-05-23-YELP | MDR-0.5 | memory-run-19:38:13</td>\n",
       "      <td>YELP | MDR-0.5 | mem</td>\n",
       "      <td>mem</td>\n",
       "      <td>YELP</td>\n",
       "      <td>MDR-0.5</td>\n",
       "      <td>0.00</td>\n",
       "      <td>0.50</td>\n",
       "      <td>False</td>\n",
       "      <td>False</td>\n",
       "      <td>True</td>\n",
       "      <td>3ib4xjy1</td>\n",
       "      <td>[6]</td>\n",
       "      <td>7.00</td>\n",
       "      <td>1</td>\n",
       "      <td>['checkpoint-epoch-006-step-35553-iw-ll_176.pth']</td>\n",
       "    </tr>\n",
       "    <tr>\n",
       "      <th>40</th>\n",
       "      <td>2021-05-23-YELP | MDR-0.5 | memory | DROP 40-r...</td>\n",
       "      <td>YELP | MDR-0.5 | mem | DROP 40</td>\n",
       "      <td>mem</td>\n",
       "      <td>YELP</td>\n",
       "      <td>MDR-0.5</td>\n",
       "      <td>0.40</td>\n",
       "      <td>0.50</td>\n",
       "      <td>False</td>\n",
       "      <td>False</td>\n",
       "      <td>True</td>\n",
       "      <td>8n0nwg4s</td>\n",
       "      <td>[4, 6]</td>\n",
       "      <td>7.00</td>\n",
       "      <td>1</td>\n",
       "      <td>['checkpoint-epoch-006-step-35553-iw-ll_181.pth']</td>\n",
       "    </tr>\n",
       "    <tr>\n",
       "      <th>41</th>\n",
       "      <td>2021-05-23-YELP | MDR-0.5 | memory-embeddings-...</td>\n",
       "      <td>YELP | MDR-0.5 | mem+emb</td>\n",
       "      <td>mem+emb</td>\n",
       "      <td>YELP</td>\n",
       "      <td>MDR-0.5</td>\n",
       "      <td>0.00</td>\n",
       "      <td>0.50</td>\n",
       "      <td>False</td>\n",
       "      <td>True</td>\n",
       "      <td>True</td>\n",
       "      <td>o9nr37ra</td>\n",
       "      <td>[4, 5, 6]</td>\n",
       "      <td>7.00</td>\n",
       "      <td>2</td>\n",
       "      <td>['checkpoint-epoch-004-step-25395-iw-ll_179.pt...</td>\n",
       "    </tr>\n",
       "    <tr>\n",
       "      <th>28</th>\n",
       "      <td>2021-05-22-YELP | VAE | memory-run-23:33:15</td>\n",
       "      <td>YELP | VAE | mem</td>\n",
       "      <td>mem</td>\n",
       "      <td>YELP</td>\n",
       "      <td>VAE</td>\n",
       "      <td>0.00</td>\n",
       "      <td>0.00</td>\n",
       "      <td>False</td>\n",
       "      <td>False</td>\n",
       "      <td>True</td>\n",
       "      <td>1xzlf0jq</td>\n",
       "      <td>[2, 3, 5, 6]</td>\n",
       "      <td>7.00</td>\n",
       "      <td>3</td>\n",
       "      <td>['checkpoint-epoch-002-step-15237-iw-ll_176.pt...</td>\n",
       "    </tr>\n",
       "    <tr>\n",
       "      <th>29</th>\n",
       "      <td>2021-05-23-YELP | VAE | memory | DROP 40-run-0...</td>\n",
       "      <td>YELP | VAE | mem | DROP 40</td>\n",
       "      <td>mem</td>\n",
       "      <td>YELP</td>\n",
       "      <td>VAE</td>\n",
       "      <td>0.40</td>\n",
       "      <td>0.00</td>\n",
       "      <td>False</td>\n",
       "      <td>False</td>\n",
       "      <td>True</td>\n",
       "      <td>3hgi7s5z</td>\n",
       "      <td>[6, 7]</td>\n",
       "      <td>7.00</td>\n",
       "      <td>2</td>\n",
       "      <td>['checkpoint-epoch-006-step-35553-iw-ll_181.pt...</td>\n",
       "    </tr>\n",
       "    <tr>\n",
       "      <th>30</th>\n",
       "      <td>2021-05-23-YELP | VAE | memory-embeddings-run-...</td>\n",
       "      <td>YELP | VAE | mem+emb</td>\n",
       "      <td>mem+emb</td>\n",
       "      <td>YELP</td>\n",
       "      <td>VAE</td>\n",
       "      <td>0.00</td>\n",
       "      <td>0.00</td>\n",
       "      <td>False</td>\n",
       "      <td>True</td>\n",
       "      <td>True</td>\n",
       "      <td>37nq0714</td>\n",
       "      <td>[3, 5, 6, 7]</td>\n",
       "      <td>7.00</td>\n",
       "      <td>3</td>\n",
       "      <td>['checkpoint-epoch-003-step-20316-iw-ll_182.pt...</td>\n",
       "    </tr>\n",
       "    <tr>\n",
       "      <th>31</th>\n",
       "      <td>2021-05-23-YELP | VAE | memory-embeddings | DR...</td>\n",
       "      <td>YELP | VAE | mem+emb | DROP 40</td>\n",
       "      <td>mem+emb</td>\n",
       "      <td>YELP</td>\n",
       "      <td>VAE</td>\n",
       "      <td>0.40</td>\n",
       "      <td>0.00</td>\n",
       "      <td>False</td>\n",
       "      <td>True</td>\n",
       "      <td>True</td>\n",
       "      <td>1w5j6ty6</td>\n",
       "      <td>[6]</td>\n",
       "      <td>7.00</td>\n",
       "      <td>1</td>\n",
       "      <td>['checkpoint-epoch-006-step-35553-iw-ll_181.pth']</td>\n",
       "    </tr>\n",
       "  </tbody>\n",
       "</table>\n",
       "</div>"
      ],
      "text/plain": [
       "                                             run_name  \\\n",
       "12  2021-05-22-PTB | CYC-FB-0.5 | memory-run-02:03:27   \n",
       "13  2021-05-22-PTB | CYC-FB-0.5 | memory | DROP 40...   \n",
       "14  2021-05-22-PTB | CYC-FB-0.5 | memory-embedding...   \n",
       "15  2021-05-22-PTB | CYC-FB-0.5 | memory-embedding...   \n",
       "22  2021-05-22-PTB | MDR-0.5 | memory-embeddings-r...   \n",
       "23  2021-05-22-PTB | MDR-0.5 | memory-embeddings |...   \n",
       "60     2021-06-07-PTB | MDR-0.5 | memory-run-07:46:12   \n",
       "61  2021-06-07-PTB | MDR-0.5 | memory | DROP 40-ru...   \n",
       "5          2021-05-21-PTB | VAE | memory-run-05:50:37   \n",
       "6   2021-05-21-PTB | VAE | memory | DROP 40-run-05...   \n",
       "7   2021-05-21-PTB | VAE | memory-embeddings-run-0...   \n",
       "8   2021-05-21-PTB | VAE | memory-embeddings | DRO...   \n",
       "20  2021-06-09-PTB | VAE | memory-embeddings | DRO...   \n",
       "21  2021-06-09-PTB | VAE | memory-embeddings | DRO...   \n",
       "35  2021-05-23-YELP | CYC-FB-0.5 | memory-run-10:5...   \n",
       "36  2021-05-23-YELP | CYC-FB-0.5 | memory | DROP 4...   \n",
       "37  2021-05-23-YELP | CYC-FB-0.5 | memory-embeddin...   \n",
       "38  2021-05-23-YELP | CYC-FB-0.5 | memory-embeddin...   \n",
       "4   2021-05-31-YELP | MDR-0.5 | memory-embeddings ...   \n",
       "39    2021-05-23-YELP | MDR-0.5 | memory-run-19:38:13   \n",
       "40  2021-05-23-YELP | MDR-0.5 | memory | DROP 40-r...   \n",
       "41  2021-05-23-YELP | MDR-0.5 | memory-embeddings-...   \n",
       "28        2021-05-22-YELP | VAE | memory-run-23:33:15   \n",
       "29  2021-05-23-YELP | VAE | memory | DROP 40-run-0...   \n",
       "30  2021-05-23-YELP | VAE | memory-embeddings-run-...   \n",
       "31  2021-05-23-YELP | VAE | memory-embeddings | DR...   \n",
       "\n",
       "                               clean_name mech_string dataset optimisation  \\\n",
       "12                 PTB | CYC-FB-0.5 | mem         mem     PTB   CYC-FB-0.5   \n",
       "13       PTB | CYC-FB-0.5 | mem | DROP 40         mem     PTB   CYC-FB-0.5   \n",
       "14             PTB | CYC-FB-0.5 | mem+emb     mem+emb     PTB   CYC-FB-0.5   \n",
       "15   PTB | CYC-FB-0.5 | mem+emb | DROP 40     mem+emb     PTB   CYC-FB-0.5   \n",
       "22                PTB | MDR-0.5 | mem+emb     mem+emb     PTB      MDR-0.5   \n",
       "23      PTB | MDR-0.5 | mem+emb | DROP 40     mem+emb     PTB      MDR-0.5   \n",
       "60                    PTB | MDR-0.5 | mem         mem     PTB      MDR-0.5   \n",
       "61          PTB | MDR-0.5 | mem | DROP 40         mem     PTB      MDR-0.5   \n",
       "5                         PTB | VAE | mem         mem     PTB          VAE   \n",
       "6               PTB | VAE | mem | DROP 40         mem     PTB          VAE   \n",
       "7                     PTB | VAE | mem+emb     mem+emb     PTB          VAE   \n",
       "8           PTB | VAE | mem+emb | DROP 40     mem+emb     PTB          VAE   \n",
       "20          PTB | VAE | mem+emb | DROP 60     mem+emb     PTB          VAE   \n",
       "21          PTB | VAE | mem+emb | DROP 80     mem+emb     PTB          VAE   \n",
       "35                YELP | CYC-FB-0.5 | mem         mem    YELP   CYC-FB-0.5   \n",
       "36      YELP | CYC-FB-0.5 | mem | DROP 40         mem    YELP   CYC-FB-0.5   \n",
       "37            YELP | CYC-FB-0.5 | mem+emb     mem+emb    YELP   CYC-FB-0.5   \n",
       "38  YELP | CYC-FB-0.5 | mem+emb | DROP 40     mem+emb    YELP   CYC-FB-0.5   \n",
       "4      YELP | MDR-0.5 | mem+emb | DROP 40     mem+emb    YELP      MDR-0.5   \n",
       "39                   YELP | MDR-0.5 | mem         mem    YELP      MDR-0.5   \n",
       "40         YELP | MDR-0.5 | mem | DROP 40         mem    YELP      MDR-0.5   \n",
       "41               YELP | MDR-0.5 | mem+emb     mem+emb    YELP      MDR-0.5   \n",
       "28                       YELP | VAE | mem         mem    YELP          VAE   \n",
       "29             YELP | VAE | mem | DROP 40         mem    YELP          VAE   \n",
       "30                   YELP | VAE | mem+emb     mem+emb    YELP          VAE   \n",
       "31         YELP | VAE | mem+emb | DROP 40     mem+emb    YELP          VAE   \n",
       "\n",
       "    drop  target_rate  matrix    emb   mem    run_id  \\\n",
       "12  0.00         0.50   False  False  True  27oka9vj   \n",
       "13  0.40         0.50   False  False  True  2wp5209z   \n",
       "14  0.00         0.50   False   True  True  195gipld   \n",
       "15  0.40         0.50   False   True  True  1ufo17lu   \n",
       "22  0.00         0.50   False   True  True  2yif94d1   \n",
       "23  0.40         0.50   False   True  True  1g74n9sz   \n",
       "60  0.00         0.50   False  False  True  3rin8925   \n",
       "61  0.40         0.50   False  False  True  vyepl3iz   \n",
       "5   0.00         0.00   False  False  True  b1ibcrel   \n",
       "6   0.40         0.00   False  False  True  27v1n9u0   \n",
       "7   0.00         0.00   False   True  True  evvxxxs9   \n",
       "8   0.40         0.00   False   True  True  12iqm2wx   \n",
       "20  0.60         0.00   False   True  True  3jf3fgyp   \n",
       "21  0.80         0.00   False   True  True  14jup3i6   \n",
       "35  0.00         0.50   False  False  True  1j7vxbf7   \n",
       "36  0.40         0.50   False  False  True  2ah185pc   \n",
       "37  0.00         0.50   False   True  True  3no83sod   \n",
       "38  0.40         0.50   False   True  True  1m9rzsvp   \n",
       "4   0.40         0.50   False   True  True  s8nwyhu2   \n",
       "39  0.00         0.50   False  False  True  3ib4xjy1   \n",
       "40  0.40         0.50   False  False  True  8n0nwg4s   \n",
       "41  0.00         0.50   False   True  True  o9nr37ra   \n",
       "28  0.00         0.00   False  False  True  1xzlf0jq   \n",
       "29  0.40         0.00   False  False  True  3hgi7s5z   \n",
       "30  0.00         0.00   False   True  True  37nq0714   \n",
       "31  0.40         0.00   False   True  True  1w5j6ty6   \n",
       "\n",
       "                                     efficient_epochs  \\\n",
       "12                                    [0, 1, 2, 3, 4]   \n",
       "13                                             [0, 1]   \n",
       "14                                                [4]   \n",
       "15                                             [4, 6]   \n",
       "22                             [8, 9, 11, 13, 14, 15]   \n",
       "23                                       [15, 17, 18]   \n",
       "60  [1, 2, 4, 5, 6, 7, 8, 9, 10, 11, 12, 13, 15, 1...   \n",
       "61                        [2, 3, 4, 7, 9, 10, 12, 19]   \n",
       "5                               [2, 3, 4, 6, 7, 8, 9]   \n",
       "6              [0, 5, 6, 7, 8, 9, 12, 15, 17, 18, 19]   \n",
       "7                           [2, 4, 5, 6, 7, 8, 9, 10]   \n",
       "8              [4, 5, 6, 7, 8, 9, 11, 12, 13, 15, 17]   \n",
       "20                        [3, 4, 6, 7, 9, 15, 17, 19]   \n",
       "21                                       [13, 18, 19]   \n",
       "35                                          [4, 5, 6]   \n",
       "36                                       [1, 2, 5, 6]   \n",
       "37                                          [2, 5, 6]   \n",
       "38                                          [2, 5, 6]   \n",
       "4                                              [8, 9]   \n",
       "39                                                [6]   \n",
       "40                                             [4, 6]   \n",
       "41                                          [4, 5, 6]   \n",
       "28                                       [2, 3, 5, 6]   \n",
       "29                                             [6, 7]   \n",
       "30                                       [3, 5, 6, 7]   \n",
       "31                                                [6]   \n",
       "\n",
       "    max pareto logged epoch  n_checkpoints  \\\n",
       "12                     7.00              5   \n",
       "13                     4.00              2   \n",
       "14                     7.00              1   \n",
       "15                     9.00              2   \n",
       "22                    19.00              5   \n",
       "23                    19.00              3   \n",
       "60                    19.00              5   \n",
       "61                    19.00              5   \n",
       "5                     19.00              3   \n",
       "6                     19.00              4   \n",
       "7                     19.00              2   \n",
       "8                     19.00              3   \n",
       "20                    19.00              8   \n",
       "21                    19.00              3   \n",
       "35                     7.00              3   \n",
       "36                     7.00              4   \n",
       "37                     7.00              3   \n",
       "38                     7.00              3   \n",
       "4                      9.00              2   \n",
       "39                     7.00              1   \n",
       "40                     7.00              1   \n",
       "41                     7.00              2   \n",
       "28                     7.00              3   \n",
       "29                     7.00              2   \n",
       "30                     7.00              3   \n",
       "31                     7.00              1   \n",
       "\n",
       "                                          checkpoints  \n",
       "12  ['checkpoint-epoch-000-step-329-iw-ll_097.pth'...  \n",
       "13  ['checkpoint-epoch-000-step-329-iw-ll_101.pth'...  \n",
       "14   ['checkpoint-epoch-004-step-1645-iw-ll_093.pth']  \n",
       "15  ['checkpoint-epoch-004-step-1645-iw-ll_099.pth...  \n",
       "22  ['checkpoint-epoch-009-step-3290-iw-ll_089.pth...  \n",
       "23  ['checkpoint-epoch-015-step-5264-iw-ll_088.pth...  \n",
       "60  ['checkpoint-epoch-012-step-4277-iw-ll_092.pth...  \n",
       "61  ['checkpoint-epoch-007-step-2632-iw-ll_095.pth...  \n",
       "5   ['checkpoint-epoch-006-step-2303-iw-ll_087.pth...  \n",
       "6   ['checkpoint-epoch-009-step-3290-iw-ll_088.pth...  \n",
       "7   ['checkpoint-epoch-006-step-2303-iw-ll_086.pth...  \n",
       "8   ['checkpoint-epoch-009-step-3290-iw-ll_088.pth...  \n",
       "20  ['checkpoint-epoch-003-step-1316-iw-ll_097.pth...  \n",
       "21  ['checkpoint-epoch-013-step-4606-iw-ll_097.pth...  \n",
       "35  ['checkpoint-epoch-004-step-25395-iw-ll_184.pt...  \n",
       "36  ['checkpoint-epoch-001-step-10158-iw-ll_196.pt...  \n",
       "37  ['checkpoint-epoch-002-step-15237-iw-ll_181.pt...  \n",
       "38  ['checkpoint-epoch-002-step-15237-iw-ll_188.pt...  \n",
       "4   ['checkpoint-epoch-008-step-45711-iw-ll_181.pt...  \n",
       "39  ['checkpoint-epoch-006-step-35553-iw-ll_176.pth']  \n",
       "40  ['checkpoint-epoch-006-step-35553-iw-ll_181.pth']  \n",
       "41  ['checkpoint-epoch-004-step-25395-iw-ll_179.pt...  \n",
       "28  ['checkpoint-epoch-002-step-15237-iw-ll_176.pt...  \n",
       "29  ['checkpoint-epoch-006-step-35553-iw-ll_181.pt...  \n",
       "30  ['checkpoint-epoch-003-step-20316-iw-ll_182.pt...  \n",
       "31  ['checkpoint-epoch-006-step-35553-iw-ll_181.pth']  "
      ]
     },
     "execution_count": 4,
     "metadata": {},
     "output_type": "execute_result"
    }
   ],
   "source": [
    "df = read_overview_csv(exp_name=\"Runs\")\n",
    "df_select = df[(df[\"matrix\"] == False) & (df[\"optimisation\"] != \"DEC-ONLY\") & (df[\"optimisation\"] != \"AE\")]\n",
    "df_select = df_select.sort_values([\"dataset\", \"optimisation\"])\n",
    "df_select"
   ]
  },
  {
   "cell_type": "code",
   "execution_count": 10,
   "metadata": {},
   "outputs": [
    {
     "name": "stdout",
     "output_type": "stream",
     "text": [
      "**************************************************\n",
      "PTB | CYC-FB-0.5 | mem\n",
      "2021-05-22-PTB | CYC-FB-0.5 | memory-run-02:03:27\n",
      "**************************************************\n",
      "/home/cbarkhof/code-thesis/NewsVAE/final-analysis/result-files/Runs/2021-05-22-PTB | CYC-FB-0.5 | memory-run-02:03:27/result_JSD_over_seq_N_EXP_10_MAX_BATCHES_10_BS_64.pickle\n",
      "Loading file /home/cbarkhof/code-thesis/NewsVAE/final-analysis/result-files/Runs/2021-05-22-PTB | CYC-FB-0.5 | memory-run-02:03:27/result_JSD_over_seq_N_EXP_10_MAX_BATCHES_10_BS_64.pickle, it existed.\n",
      "**************************************************\n",
      "PTB | CYC-FB-0.5 | mem | DROP 40\n",
      "2021-05-22-PTB | CYC-FB-0.5 | memory | DROP 40-run-04:00:13\n",
      "**************************************************\n",
      "/home/cbarkhof/code-thesis/NewsVAE/final-analysis/result-files/Runs/2021-05-22-PTB | CYC-FB-0.5 | memory | DROP 40-run-04:00:13/result_JSD_over_seq_N_EXP_10_MAX_BATCHES_10_BS_64.pickle\n",
      "Loading file /home/cbarkhof/code-thesis/NewsVAE/final-analysis/result-files/Runs/2021-05-22-PTB | CYC-FB-0.5 | memory | DROP 40-run-04:00:13/result_JSD_over_seq_N_EXP_10_MAX_BATCHES_10_BS_64.pickle, it existed.\n",
      "**************************************************\n",
      "PTB | CYC-FB-0.5 | mem+emb\n",
      "2021-05-22-PTB | CYC-FB-0.5 | memory-embeddings-run-07:04:27\n",
      "**************************************************\n",
      "/home/cbarkhof/code-thesis/NewsVAE/final-analysis/result-files/Runs/2021-05-22-PTB | CYC-FB-0.5 | memory-embeddings-run-07:04:27/result_JSD_over_seq_N_EXP_10_MAX_BATCHES_10_BS_64.pickle\n",
      "Loading file /home/cbarkhof/code-thesis/NewsVAE/final-analysis/result-files/Runs/2021-05-22-PTB | CYC-FB-0.5 | memory-embeddings-run-07:04:27/result_JSD_over_seq_N_EXP_10_MAX_BATCHES_10_BS_64.pickle, it existed.\n",
      "**************************************************\n",
      "PTB | CYC-FB-0.5 | mem+emb | DROP 40\n",
      "2021-05-22-PTB | CYC-FB-0.5 | memory-embeddings | DROP 40-run-09:00:45\n",
      "**************************************************\n",
      "/home/cbarkhof/code-thesis/NewsVAE/final-analysis/result-files/Runs/2021-05-22-PTB | CYC-FB-0.5 | memory-embeddings | DROP 40-run-09:00:45/result_JSD_over_seq_N_EXP_10_MAX_BATCHES_10_BS_64.pickle\n",
      "Loading file /home/cbarkhof/code-thesis/NewsVAE/final-analysis/result-files/Runs/2021-05-22-PTB | CYC-FB-0.5 | memory-embeddings | DROP 40-run-09:00:45/result_JSD_over_seq_N_EXP_10_MAX_BATCHES_10_BS_64.pickle, it existed.\n",
      "**************************************************\n",
      "PTB | MDR-0.5 | mem+emb\n",
      "2021-05-22-PTB | MDR-0.5 | memory-embeddings-run-20:03:20\n",
      "**************************************************\n",
      "/home/cbarkhof/code-thesis/NewsVAE/final-analysis/result-files/Runs/2021-05-22-PTB | MDR-0.5 | memory-embeddings-run-20:03:20/result_JSD_over_seq_N_EXP_10_MAX_BATCHES_10_BS_64.pickle\n",
      "Loading file /home/cbarkhof/code-thesis/NewsVAE/final-analysis/result-files/Runs/2021-05-22-PTB | MDR-0.5 | memory-embeddings-run-20:03:20/result_JSD_over_seq_N_EXP_10_MAX_BATCHES_10_BS_64.pickle, it existed.\n",
      "**************************************************\n",
      "PTB | MDR-0.5 | mem+emb | DROP 40\n",
      "2021-05-22-PTB | MDR-0.5 | memory-embeddings | DROP 40-run-20:58:03\n",
      "**************************************************\n",
      "/home/cbarkhof/code-thesis/NewsVAE/final-analysis/result-files/Runs/2021-05-22-PTB | MDR-0.5 | memory-embeddings | DROP 40-run-20:58:03/result_JSD_over_seq_N_EXP_10_MAX_BATCHES_10_BS_64.pickle\n",
      "Loading file /home/cbarkhof/code-thesis/NewsVAE/final-analysis/result-files/Runs/2021-05-22-PTB | MDR-0.5 | memory-embeddings | DROP 40-run-20:58:03/result_JSD_over_seq_N_EXP_10_MAX_BATCHES_10_BS_64.pickle, it existed.\n",
      "**************************************************\n",
      "PTB | MDR-0.5 | mem\n",
      "2021-06-07-PTB | MDR-0.5 | memory-run-07:46:12\n",
      "**************************************************\n",
      "/home/cbarkhof/code-thesis/NewsVAE/final-analysis/result-files/Runs/2021-06-07-PTB | MDR-0.5 | memory-run-07:46:12/result_JSD_over_seq_N_EXP_10_MAX_BATCHES_10_BS_64.pickle\n",
      "Loading file /home/cbarkhof/code-thesis/NewsVAE/final-analysis/result-files/Runs/2021-06-07-PTB | MDR-0.5 | memory-run-07:46:12/result_JSD_over_seq_N_EXP_10_MAX_BATCHES_10_BS_64.pickle, it existed.\n",
      "**************************************************\n",
      "PTB | MDR-0.5 | mem | DROP 40\n",
      "2021-06-07-PTB | MDR-0.5 | memory | DROP 40-run-14:54:06\n",
      "**************************************************\n",
      "/home/cbarkhof/code-thesis/NewsVAE/final-analysis/result-files/Runs/2021-06-07-PTB | MDR-0.5 | memory | DROP 40-run-14:54:06/result_JSD_over_seq_N_EXP_10_MAX_BATCHES_10_BS_64.pickle\n",
      "Loading file /home/cbarkhof/code-thesis/NewsVAE/final-analysis/result-files/Runs/2021-06-07-PTB | MDR-0.5 | memory | DROP 40-run-14:54:06/result_JSD_over_seq_N_EXP_10_MAX_BATCHES_10_BS_64.pickle, it existed.\n",
      "**************************************************\n",
      "PTB | VAE | mem\n",
      "2021-05-21-PTB | VAE | memory-run-05:50:37\n",
      "**************************************************\n",
      "/home/cbarkhof/code-thesis/NewsVAE/final-analysis/result-files/Runs/2021-05-21-PTB | VAE | memory-run-05:50:37/result_JSD_over_seq_N_EXP_10_MAX_BATCHES_10_BS_64.pickle\n",
      "**************************************************\n",
      "PTB | VAE | mem | DROP 40\n",
      "2021-05-21-PTB | VAE | memory | DROP 40-run-05:54:09\n",
      "**************************************************\n",
      "/home/cbarkhof/code-thesis/NewsVAE/final-analysis/result-files/Runs/2021-05-21-PTB | VAE | memory | DROP 40-run-05:54:09/result_JSD_over_seq_N_EXP_10_MAX_BATCHES_10_BS_64.pickle\n",
      "Loading file /home/cbarkhof/code-thesis/NewsVAE/final-analysis/result-files/Runs/2021-05-21-PTB | VAE | memory | DROP 40-run-05:54:09/result_JSD_over_seq_N_EXP_10_MAX_BATCHES_10_BS_64.pickle, it existed.\n",
      "**************************************************\n",
      "PTB | VAE | mem+emb\n",
      "2021-05-21-PTB | VAE | memory-embeddings-run-06:42:33\n",
      "**************************************************\n",
      "/home/cbarkhof/code-thesis/NewsVAE/final-analysis/result-files/Runs/2021-05-21-PTB | VAE | memory-embeddings-run-06:42:33/result_JSD_over_seq_N_EXP_10_MAX_BATCHES_10_BS_64.pickle\n",
      "**************************************************\n",
      "PTB | VAE | mem+emb | DROP 40\n",
      "2021-05-21-PTB | VAE | memory-embeddings | DROP 40-run-14:35:15\n",
      "**************************************************\n",
      "/home/cbarkhof/code-thesis/NewsVAE/final-analysis/result-files/Runs/2021-05-21-PTB | VAE | memory-embeddings | DROP 40-run-14:35:15/result_JSD_over_seq_N_EXP_10_MAX_BATCHES_10_BS_64.pickle\n",
      "**************************************************\n",
      "PTB | VAE | mem+emb | DROP 60\n",
      "2021-06-09-PTB | VAE | memory-embeddings | DROP 60-run-19:32:03\n",
      "**************************************************\n",
      "/home/cbarkhof/code-thesis/NewsVAE/final-analysis/result-files/Runs/2021-06-09-PTB | VAE | memory-embeddings | DROP 60-run-19:32:03/result_JSD_over_seq_N_EXP_10_MAX_BATCHES_10_BS_64.pickle\n",
      "Loading file /home/cbarkhof/code-thesis/NewsVAE/final-analysis/result-files/Runs/2021-06-09-PTB | VAE | memory-embeddings | DROP 60-run-19:32:03/result_JSD_over_seq_N_EXP_10_MAX_BATCHES_10_BS_64.pickle, it existed.\n",
      "**************************************************\n",
      "PTB | VAE | mem+emb | DROP 80\n",
      "2021-06-09-PTB | VAE | memory-embeddings | DROP 80-run-22:08:35\n",
      "**************************************************\n",
      "/home/cbarkhof/code-thesis/NewsVAE/final-analysis/result-files/Runs/2021-06-09-PTB | VAE | memory-embeddings | DROP 80-run-22:08:35/result_JSD_over_seq_N_EXP_10_MAX_BATCHES_10_BS_64.pickle\n",
      "Loading file /home/cbarkhof/code-thesis/NewsVAE/final-analysis/result-files/Runs/2021-06-09-PTB | VAE | memory-embeddings | DROP 80-run-22:08:35/result_JSD_over_seq_N_EXP_10_MAX_BATCHES_10_BS_64.pickle, it existed.\n",
      "**************************************************\n",
      "YELP | CYC-FB-0.5 | mem\n",
      "2021-05-23-YELP | CYC-FB-0.5 | memory-run-10:56:31\n",
      "**************************************************\n",
      "/home/cbarkhof/code-thesis/NewsVAE/final-analysis/result-files/Runs/2021-05-23-YELP | CYC-FB-0.5 | memory-run-10:56:31/result_JSD_over_seq_N_EXP_10_MAX_BATCHES_10_BS_64.pickle\n",
      "Loading file /home/cbarkhof/code-thesis/NewsVAE/final-analysis/result-files/Runs/2021-05-23-YELP | CYC-FB-0.5 | memory-run-10:56:31/result_JSD_over_seq_N_EXP_10_MAX_BATCHES_10_BS_64.pickle, it existed.\n",
      "**************************************************\n",
      "YELP | CYC-FB-0.5 | mem | DROP 40\n",
      "2021-05-23-YELP | CYC-FB-0.5 | memory | DROP 40-run-17:15:59\n",
      "**************************************************\n",
      "/home/cbarkhof/code-thesis/NewsVAE/final-analysis/result-files/Runs/2021-05-23-YELP | CYC-FB-0.5 | memory | DROP 40-run-17:15:59/result_JSD_over_seq_N_EXP_10_MAX_BATCHES_10_BS_64.pickle\n",
      "Loading file /home/cbarkhof/code-thesis/NewsVAE/final-analysis/result-files/Runs/2021-05-23-YELP | CYC-FB-0.5 | memory | DROP 40-run-17:15:59/result_JSD_over_seq_N_EXP_10_MAX_BATCHES_10_BS_64.pickle, it existed.\n",
      "**************************************************\n",
      "YELP | CYC-FB-0.5 | mem+emb\n",
      "2021-05-23-YELP | CYC-FB-0.5 | memory-embeddings-run-18:19:10\n",
      "**************************************************\n",
      "/home/cbarkhof/code-thesis/NewsVAE/final-analysis/result-files/Runs/2021-05-23-YELP | CYC-FB-0.5 | memory-embeddings-run-18:19:10/result_JSD_over_seq_N_EXP_10_MAX_BATCHES_10_BS_64.pickle\n",
      "Loading file /home/cbarkhof/code-thesis/NewsVAE/final-analysis/result-files/Runs/2021-05-23-YELP | CYC-FB-0.5 | memory-embeddings-run-18:19:10/result_JSD_over_seq_N_EXP_10_MAX_BATCHES_10_BS_64.pickle, it existed.\n",
      "**************************************************\n",
      "YELP | CYC-FB-0.5 | mem+emb | DROP 40\n",
      "2021-05-23-YELP | CYC-FB-0.5 | memory-embeddings | DROP 40-run-18:57:08\n",
      "**************************************************\n",
      "/home/cbarkhof/code-thesis/NewsVAE/final-analysis/result-files/Runs/2021-05-23-YELP | CYC-FB-0.5 | memory-embeddings | DROP 40-run-18:57:08/result_JSD_over_seq_N_EXP_10_MAX_BATCHES_10_BS_64.pickle\n",
      "Loading file /home/cbarkhof/code-thesis/NewsVAE/final-analysis/result-files/Runs/2021-05-23-YELP | CYC-FB-0.5 | memory-embeddings | DROP 40-run-18:57:08/result_JSD_over_seq_N_EXP_10_MAX_BATCHES_10_BS_64.pickle, it existed.\n",
      "**************************************************\n",
      "YELP | MDR-0.5 | mem+emb | DROP 40\n",
      "2021-05-31-YELP | MDR-0.5 | memory-embeddings | DROP 40-run-15:27:52\n",
      "**************************************************\n",
      "/home/cbarkhof/code-thesis/NewsVAE/final-analysis/result-files/Runs/2021-05-31-YELP | MDR-0.5 | memory-embeddings | DROP 40-run-15:27:52/result_JSD_over_seq_N_EXP_10_MAX_BATCHES_10_BS_64.pickle\n",
      "Loading file /home/cbarkhof/code-thesis/NewsVAE/final-analysis/result-files/Runs/2021-05-31-YELP | MDR-0.5 | memory-embeddings | DROP 40-run-15:27:52/result_JSD_over_seq_N_EXP_10_MAX_BATCHES_10_BS_64.pickle, it existed.\n",
      "**************************************************\n",
      "YELP | MDR-0.5 | mem\n",
      "2021-05-23-YELP | MDR-0.5 | memory-run-19:38:13\n",
      "**************************************************\n",
      "/home/cbarkhof/code-thesis/NewsVAE/final-analysis/result-files/Runs/2021-05-23-YELP | MDR-0.5 | memory-run-19:38:13/result_JSD_over_seq_N_EXP_10_MAX_BATCHES_10_BS_64.pickle\n",
      "Loading file /home/cbarkhof/code-thesis/NewsVAE/final-analysis/result-files/Runs/2021-05-23-YELP | MDR-0.5 | memory-run-19:38:13/result_JSD_over_seq_N_EXP_10_MAX_BATCHES_10_BS_64.pickle, it existed.\n",
      "**************************************************\n",
      "YELP | MDR-0.5 | mem | DROP 40\n",
      "2021-05-23-YELP | MDR-0.5 | memory | DROP 40-run-20:10:35\n",
      "**************************************************\n",
      "/home/cbarkhof/code-thesis/NewsVAE/final-analysis/result-files/Runs/2021-05-23-YELP | MDR-0.5 | memory | DROP 40-run-20:10:35/result_JSD_over_seq_N_EXP_10_MAX_BATCHES_10_BS_64.pickle\n",
      "Loading file /home/cbarkhof/code-thesis/NewsVAE/final-analysis/result-files/Runs/2021-05-23-YELP | MDR-0.5 | memory | DROP 40-run-20:10:35/result_JSD_over_seq_N_EXP_10_MAX_BATCHES_10_BS_64.pickle, it existed.\n",
      "**************************************************\n",
      "YELP | MDR-0.5 | mem+emb\n",
      "2021-05-23-YELP | MDR-0.5 | memory-embeddings-run-20:52:29\n",
      "**************************************************\n",
      "/home/cbarkhof/code-thesis/NewsVAE/final-analysis/result-files/Runs/2021-05-23-YELP | MDR-0.5 | memory-embeddings-run-20:52:29/result_JSD_over_seq_N_EXP_10_MAX_BATCHES_10_BS_64.pickle\n",
      "Loading file /home/cbarkhof/code-thesis/NewsVAE/final-analysis/result-files/Runs/2021-05-23-YELP | MDR-0.5 | memory-embeddings-run-20:52:29/result_JSD_over_seq_N_EXP_10_MAX_BATCHES_10_BS_64.pickle, it existed.\n",
      "**************************************************\n",
      "YELP | VAE | mem\n",
      "2021-05-22-YELP | VAE | memory-run-23:33:15\n",
      "**************************************************\n",
      "/home/cbarkhof/code-thesis/NewsVAE/final-analysis/result-files/Runs/2021-05-22-YELP | VAE | memory-run-23:33:15/result_JSD_over_seq_N_EXP_10_MAX_BATCHES_10_BS_64.pickle\n",
      "Loading file /home/cbarkhof/code-thesis/NewsVAE/final-analysis/result-files/Runs/2021-05-22-YELP | VAE | memory-run-23:33:15/result_JSD_over_seq_N_EXP_10_MAX_BATCHES_10_BS_64.pickle, it existed.\n",
      "**************************************************\n",
      "YELP | VAE | mem | DROP 40\n",
      "2021-05-23-YELP | VAE | memory | DROP 40-run-06:24:30\n",
      "**************************************************\n",
      "/home/cbarkhof/code-thesis/NewsVAE/final-analysis/result-files/Runs/2021-05-23-YELP | VAE | memory | DROP 40-run-06:24:30/result_JSD_over_seq_N_EXP_10_MAX_BATCHES_10_BS_64.pickle\n",
      "Loading file /home/cbarkhof/code-thesis/NewsVAE/final-analysis/result-files/Runs/2021-05-23-YELP | VAE | memory | DROP 40-run-06:24:30/result_JSD_over_seq_N_EXP_10_MAX_BATCHES_10_BS_64.pickle, it existed.\n",
      "**************************************************\n",
      "YELP | VAE | mem+emb\n",
      "2021-05-23-YELP | VAE | memory-embeddings-run-07:33:28\n",
      "**************************************************\n"
     ]
    },
    {
     "name": "stdout",
     "output_type": "stream",
     "text": [
      "/home/cbarkhof/code-thesis/NewsVAE/final-analysis/result-files/Runs/2021-05-23-YELP | VAE | memory-embeddings-run-07:33:28/result_JSD_over_seq_N_EXP_10_MAX_BATCHES_10_BS_64.pickle\n",
      "Loading file /home/cbarkhof/code-thesis/NewsVAE/final-analysis/result-files/Runs/2021-05-23-YELP | VAE | memory-embeddings-run-07:33:28/result_JSD_over_seq_N_EXP_10_MAX_BATCHES_10_BS_64.pickle, it existed.\n",
      "**************************************************\n",
      "YELP | VAE | mem+emb | DROP 40\n",
      "2021-05-23-YELP | VAE | memory-embeddings | DROP 40-run-09:15:07\n",
      "**************************************************\n",
      "/home/cbarkhof/code-thesis/NewsVAE/final-analysis/result-files/Runs/2021-05-23-YELP | VAE | memory-embeddings | DROP 40-run-09:15:07/result_JSD_over_seq_N_EXP_10_MAX_BATCHES_10_BS_64.pickle\n",
      "Loading file /home/cbarkhof/code-thesis/NewsVAE/final-analysis/result-files/Runs/2021-05-23-YELP | VAE | memory-embeddings | DROP 40-run-09:15:07/result_JSD_over_seq_N_EXP_10_MAX_BATCHES_10_BS_64.pickle, it existed.\n"
     ]
    }
   ],
   "source": [
    "N_EXP = 10\n",
    "MAX_BATCHES = 10\n",
    "BS = 64\n",
    "DEVICE = \"cuda:0\"\n",
    "exp_name = \"Runs\"\n",
    "\n",
    "all_jsd = {}\n",
    "\n",
    "for row_i, row in df_select.iterrows():\n",
    "    run_name, clean_name = row['run_name'], row['clean_name']\n",
    "\n",
    "    print(\"*\" * 50)\n",
    "    print(clean_name)\n",
    "    print(run_name)\n",
    "    print(\"*\" * 50)\n",
    "\n",
    "    d = f\"{RES_FILE_DIR}/{exp_name}/{run_name}\"\n",
    "    os.makedirs(d, exist_ok=True)\n",
    "    RESULT_FILE = f\"{d}/result_JSD_over_seq_N_EXP_{N_EXP}_MAX_BATCHES_{MAX_BATCHES}_BS_{BS}.pickle\"\n",
    "    print(RESULT_FILE)\n",
    "\n",
    "    # If already ran, do not run again\n",
    "    if os.path.exists(RESULT_FILE):\n",
    "        print(f\"Loading file {RESULT_FILE}, it existed.\")\n",
    "        results_jsd = pickle.load( open( RESULT_FILE, \"rb\" ) )\n",
    "        all_jsd[clean_name] = results_jsd"
   ]
  },
  {
   "cell_type": "code",
   "execution_count": 11,
   "metadata": {
    "scrolled": false
   },
   "outputs": [
    {
     "name": "stdout",
     "output_type": "stream",
     "text": [
      "PTB | CYC-FB-0.5 | mem\n"
     ]
    },
    {
     "data": {
      "image/png": "[encoded data removed]",
      "text/plain": [
       "<Figure size 432x288 with 1 Axes>"
      ]
     },
     "metadata": {
      "image/png": {
       "height": 45,
       "width": 349
      },
      "needs_background": "light"
     },
     "output_type": "display_data"
    },
    {
     "data": {
      "image/png": "[encoded data removed]",
      "text/plain": [
       "<Figure size 432x288 with 1 Axes>"
      ]
     },
     "metadata": {
      "image/png": {
       "height": 45,
       "width": 349
      },
      "needs_background": "light"
     },
     "output_type": "display_data"
    },
    {
     "data": {
      "image/png": "[encoded data removed]",
      "text/plain": [
       "<Figure size 432x288 with 1 Axes>"
      ]
     },
     "metadata": {
      "image/png": {
       "height": 45,
       "width": 349
      },
      "needs_background": "light"
     },
     "output_type": "display_data"
    },
    {
     "name": "stdout",
     "output_type": "stream",
     "text": [
      "PTB | CYC-FB-0.5 | mem | DROP 40\n"
     ]
    },
    {
     "data": {
      "image/png": "[encoded data removed]",
      "text/plain": [
       "<Figure size 432x288 with 1 Axes>"
      ]
     },
     "metadata": {
      "image/png": {
       "height": 45,
       "width": 349
      },
      "needs_background": "light"
     },
     "output_type": "display_data"
    },
    {
     "data": {
      "image/png": "[encoded data removed]",
      "text/plain": [
       "<Figure size 432x288 with 1 Axes>"
      ]
     },
     "metadata": {
      "image/png": {
       "height": 45,
       "width": 349
      },
      "needs_background": "light"
     },
     "output_type": "display_data"
    },
    {
     "data": {
      "image/png": "[encoded data removed]",
      "text/plain": [
       "<Figure size 432x288 with 1 Axes>"
      ]
     },
     "metadata": {
      "image/png": {
       "height": 45,
       "width": 349
      },
      "needs_background": "light"
     },
     "output_type": "display_data"
    },
    {
     "name": "stdout",
     "output_type": "stream",
     "text": [
      "PTB | CYC-FB-0.5 | mem+emb\n"
     ]
    },
    {
     "data": {
      "image/png": "[encoded data removed]",
      "text/plain": [
       "<Figure size 432x288 with 1 Axes>"
      ]
     },
     "metadata": {
      "image/png": {
       "height": 45,
       "width": 349
      },
      "needs_background": "light"
     },
     "output_type": "display_data"
    },
    {
     "data": {
      "image/png": "[encoded data removed]",
      "text/plain": [
       "<Figure size 432x288 with 1 Axes>"
      ]
     },
     "metadata": {
      "image/png": {
       "height": 45,
       "width": 349
      },
      "needs_background": "light"
     },
     "output_type": "display_data"
    },
    {
     "data": {
      "image/png": "[encoded data removed]",
      "text/plain": [
       "<Figure size 432x288 with 1 Axes>"
      ]
     },
     "metadata": {
      "image/png": {
       "height": 45,
       "width": 349
      },
      "needs_background": "light"
     },
     "output_type": "display_data"
    },
    {
     "name": "stdout",
     "output_type": "stream",
     "text": [
      "PTB | CYC-FB-0.5 | mem+emb | DROP 40\n"
     ]
    },
    {
     "data": {
      "image/png": "[encoded data removed]",
      "text/plain": [
       "<Figure size 432x288 with 1 Axes>"
      ]
     },
     "metadata": {
      "image/png": {
       "height": 45,
       "width": 349
      },
      "needs_background": "light"
     },
     "output_type": "display_data"
    },
    {
     "data": {
      "image/png": "[encoded data removed]",
      "text/plain": [
       "<Figure size 432x288 with 1 Axes>"
      ]
     },
     "metadata": {
      "image/png": {
       "height": 45,
       "width": 349
      },
      "needs_background": "light"
     },
     "output_type": "display_data"
    },
    {
     "data": {
      "image/png": "[encoded data removed]",
      "text/plain": [
       "<Figure size 432x288 with 1 Axes>"
      ]
     },
     "metadata": {
      "image/png": {
       "height": 45,
       "width": 349
      },
      "needs_background": "light"
     },
     "output_type": "display_data"
    },
    {
     "name": "stdout",
     "output_type": "stream",
     "text": [
      "PTB | MDR-0.5 | mem+emb\n"
     ]
    },
    {
     "data": {
      "image/png": "[encoded data removed]",
      "text/plain": [
       "<Figure size 432x288 with 1 Axes>"
      ]
     },
     "metadata": {
      "image/png": {
       "height": 45,
       "width": 349
      },
      "needs_background": "light"
     },
     "output_type": "display_data"
    },
    {
     "data": {
      "image/png": "[encoded data removed]",
      "text/plain": [
       "<Figure size 432x288 with 1 Axes>"
      ]
     },
     "metadata": {
      "image/png": {
       "height": 45,
       "width": 349
      },
      "needs_background": "light"
     },
     "output_type": "display_data"
    },
    {
     "data": {
      "image/png": "[encoded data removed]",
      "text/plain": [
       "<Figure size 432x288 with 1 Axes>"
      ]
     },
     "metadata": {
      "image/png": {
       "height": 45,
       "width": 349
      },
      "needs_background": "light"
     },
     "output_type": "display_data"
    },
    {
     "name": "stdout",
     "output_type": "stream",
     "text": [
      "PTB | MDR-0.5 | mem+emb | DROP 40\n"
     ]
    },
    {
     "data": {
      "image/png": "[encoded data removed]",
      "text/plain": [
       "<Figure size 432x288 with 1 Axes>"
      ]
     },
     "metadata": {
      "image/png": {
       "height": 45,
       "width": 349
      },
      "needs_background": "light"
     },
     "output_type": "display_data"
    },
    {
     "data": {
      "image/png": "[encoded data removed]",
      "text/plain": [
       "<Figure size 432x288 with 1 Axes>"
      ]
     },
     "metadata": {
      "image/png": {
       "height": 45,
       "width": 349
      },
      "needs_background": "light"
     },
     "output_type": "display_data"
    },
    {
     "data": {
      "image/png": "[encoded data removed]",
      "text/plain": [
       "<Figure size 432x288 with 1 Axes>"
      ]
     },
     "metadata": {
      "image/png": {
       "height": 45,
       "width": 349
      },
      "needs_background": "light"
     },
     "output_type": "display_data"
    },
    {
     "name": "stdout",
     "output_type": "stream",
     "text": [
      "PTB | MDR-0.5 | mem\n"
     ]
    },
    {
     "data": {
      "image/png": "[encoded data removed]",
      "text/plain": [
       "<Figure size 432x288 with 1 Axes>"
      ]
     },
     "metadata": {
      "image/png": {
       "height": 45,
       "width": 349
      },
      "needs_background": "light"
     },
     "output_type": "display_data"
    },
    {
     "data": {
      "image/png": "[encoded data removed]",
      "text/plain": [
       "<Figure size 432x288 with 1 Axes>"
      ]
     },
     "metadata": {
      "image/png": {
       "height": 45,
       "width": 349
      },
      "needs_background": "light"
     },
     "output_type": "display_data"
    },
    {
     "data": {
      "image/png": "[encoded data removed]",
      "text/plain": [
       "<Figure size 432x288 with 1 Axes>"
      ]
     },
     "metadata": {
      "image/png": {
       "height": 45,
       "width": 349
      },
      "needs_background": "light"
     },
     "output_type": "display_data"
    },
    {
     "name": "stdout",
     "output_type": "stream",
     "text": [
      "PTB | MDR-0.5 | mem | DROP 40\n"
     ]
    },
    {
     "data": {
      "image/png": "[encoded data removed]",
      "text/plain": [
       "<Figure size 432x288 with 1 Axes>"
      ]
     },
     "metadata": {
      "image/png": {
       "height": 45,
       "width": 349
      },
      "needs_background": "light"
     },
     "output_type": "display_data"
    },
    {
     "data": {
      "image/png": "[encoded data removed]",
      "text/plain": [
       "<Figure size 432x288 with 1 Axes>"
      ]
     },
     "metadata": {
      "image/png": {
       "height": 45,
       "width": 349
      },
      "needs_background": "light"
     },
     "output_type": "display_data"
    },
    {
     "data": {
      "image/png": "[encoded data removed]",
      "text/plain": [
       "<Figure size 432x288 with 1 Axes>"
      ]
     },
     "metadata": {
      "image/png": {
       "height": 45,
       "width": 349
      },
      "needs_background": "light"
     },
     "output_type": "display_data"
    },
    {
     "name": "stdout",
     "output_type": "stream",
     "text": [
      "PTB | VAE | mem | DROP 40\n"
     ]
    },
    {
     "data": {
      "image/png": "[encoded data removed]",
      "text/plain": [
       "<Figure size 432x288 with 1 Axes>"
      ]
     },
     "metadata": {
      "image/png": {
       "height": 45,
       "width": 349
      },
      "needs_background": "light"
     },
     "output_type": "display_data"
    },
    {
     "data": {
      "image/png": "[encoded data removed]",
      "text/plain": [
       "<Figure size 432x288 with 1 Axes>"
      ]
     },
     "metadata": {
      "image/png": {
       "height": 45,
       "width": 349
      },
      "needs_background": "light"
     },
     "output_type": "display_data"
    },
    {
     "data": {
      "image/png": "[encoded data removed]",
      "text/plain": [
       "<Figure size 432x288 with 1 Axes>"
      ]
     },
     "metadata": {
      "image/png": {
       "height": 45,
       "width": 349
      },
      "needs_background": "light"
     },
     "output_type": "display_data"
    },
    {
     "name": "stdout",
     "output_type": "stream",
     "text": [
      "PTB | VAE | mem+emb | DROP 60\n"
     ]
    },
    {
     "data": {
      "image/png": "[encoded data removed]",
      "text/plain": [
       "<Figure size 432x288 with 1 Axes>"
      ]
     },
     "metadata": {
      "image/png": {
       "height": 45,
       "width": 349
      },
      "needs_background": "light"
     },
     "output_type": "display_data"
    },
    {
     "data": {
      "image/png": "[encoded data removed]",
      "text/plain": [
       "<Figure size 432x288 with 1 Axes>"
      ]
     },
     "metadata": {
      "image/png": {
       "height": 45,
       "width": 349
      },
      "needs_background": "light"
     },
     "output_type": "display_data"
    },
    {
     "data": {
      "image/png": "[encoded data removed]",
      "text/plain": [
       "<Figure size 432x288 with 1 Axes>"
      ]
     },
     "metadata": {
      "image/png": {
       "height": 45,
       "width": 349
      },
      "needs_background": "light"
     },
     "output_type": "display_data"
    },
    {
     "name": "stdout",
     "output_type": "stream",
     "text": [
      "PTB | VAE | mem+emb | DROP 80\n"
     ]
    },
    {
     "data": {
      "image/png": "[encoded data removed]",
      "text/plain": [
       "<Figure size 432x288 with 1 Axes>"
      ]
     },
     "metadata": {
      "image/png": {
       "height": 45,
       "width": 349
      },
      "needs_background": "light"
     },
     "output_type": "display_data"
    },
    {
     "data": {
      "image/png": "[encoded data removed]",
      "text/plain": [
       "<Figure size 432x288 with 1 Axes>"
      ]
     },
     "metadata": {
      "image/png": {
       "height": 45,
       "width": 349
      },
      "needs_background": "light"
     },
     "output_type": "display_data"
    },
    {
     "data": {
      "image/png": "[encoded data removed]",
      "text/plain": [
       "<Figure size 432x288 with 1 Axes>"
      ]
     },
     "metadata": {
      "image/png": {
       "height": 45,
       "width": 349
      },
      "needs_background": "light"
     },
     "output_type": "display_data"
    },
    {
     "name": "stdout",
     "output_type": "stream",
     "text": [
      "YELP | CYC-FB-0.5 | mem\n"
     ]
    },
    {
     "data": {
      "image/png": "[encoded data removed]",
      "text/plain": [
       "<Figure size 432x288 with 1 Axes>"
      ]
     },
     "metadata": {
      "image/png": {
       "height": 45,
       "width": 349
      },
      "needs_background": "light"
     },
     "output_type": "display_data"
    },
    {
     "data": {
      "image/png": "[encoded data removed]",
      "text/plain": [
       "<Figure size 432x288 with 1 Axes>"
      ]
     },
     "metadata": {
      "image/png": {
       "height": 45,
       "width": 349
      },
      "needs_background": "light"
     },
     "output_type": "display_data"
    },
    {
     "data": {
      "image/png": "[encoded data removed]",
      "text/plain": [
       "<Figure size 432x288 with 1 Axes>"
      ]
     },
     "metadata": {
      "image/png": {
       "height": 45,
       "width": 349
      },
      "needs_background": "light"
     },
     "output_type": "display_data"
    },
    {
     "name": "stdout",
     "output_type": "stream",
     "text": [
      "YELP | CYC-FB-0.5 | mem | DROP 40\n"
     ]
    },
    {
     "data": {
      "image/png": "[encoded data removed]",
      "text/plain": [
       "<Figure size 432x288 with 1 Axes>"
      ]
     },
     "metadata": {
      "image/png": {
       "height": 45,
       "width": 349
      },
      "needs_background": "light"
     },
     "output_type": "display_data"
    },
    {
     "data": {
      "image/png": "[encoded data removed]",
      "text/plain": [
       "<Figure size 432x288 with 1 Axes>"
      ]
     },
     "metadata": {
      "image/png": {
       "height": 45,
       "width": 349
      },
      "needs_background": "light"
     },
     "output_type": "display_data"
    },
    {
     "data": {
      "image/png": "[encoded data removed]",
      "text/plain": [
       "<Figure size 432x288 with 1 Axes>"
      ]
     },
     "metadata": {
      "image/png": {
       "height": 45,
       "width": 349
      },
      "needs_background": "light"
     },
     "output_type": "display_data"
    },
    {
     "name": "stdout",
     "output_type": "stream",
     "text": [
      "YELP | CYC-FB-0.5 | mem+emb\n"
     ]
    },
    {
     "data": {
      "image/png": "[encoded data removed]",
      "text/plain": [
       "<Figure size 432x288 with 1 Axes>"
      ]
     },
     "metadata": {
      "image/png": {
       "height": 45,
       "width": 349
      },
      "needs_background": "light"
     },
     "output_type": "display_data"
    },
    {
     "data": {
      "image/png": "[encoded data removed]",
      "text/plain": [
       "<Figure size 432x288 with 1 Axes>"
      ]
     },
     "metadata": {
      "image/png": {
       "height": 45,
       "width": 349
      },
      "needs_background": "light"
     },
     "output_type": "display_data"
    },
    {
     "data": {
      "image/png": "[encoded data removed]",
      "text/plain": [
       "<Figure size 432x288 with 1 Axes>"
      ]
     },
     "metadata": {
      "image/png": {
       "height": 45,
       "width": 349
      },
      "needs_background": "light"
     },
     "output_type": "display_data"
    },
    {
     "name": "stdout",
     "output_type": "stream",
     "text": [
      "YELP | CYC-FB-0.5 | mem+emb | DROP 40\n"
     ]
    },
    {
     "data": {
      "image/png": "[encoded data removed]",
      "text/plain": [
       "<Figure size 432x288 with 1 Axes>"
      ]
     },
     "metadata": {
      "image/png": {
       "height": 45,
       "width": 349
      },
      "needs_background": "light"
     },
     "output_type": "display_data"
    },
    {
     "data": {
      "image/png": "[encoded data removed]",
      "text/plain": [
       "<Figure size 432x288 with 1 Axes>"
      ]
     },
     "metadata": {
      "image/png": {
       "height": 45,
       "width": 349
      },
      "needs_background": "light"
     },
     "output_type": "display_data"
    },
    {
     "data": {
      "image/png": "[encoded data removed]",
      "text/plain": [
       "<Figure size 432x288 with 1 Axes>"
      ]
     },
     "metadata": {
      "image/png": {
       "height": 45,
       "width": 349
      },
      "needs_background": "light"
     },
     "output_type": "display_data"
    },
    {
     "name": "stdout",
     "output_type": "stream",
     "text": [
      "YELP | MDR-0.5 | mem+emb | DROP 40\n"
     ]
    },
    {
     "data": {
      "image/png": "[encoded data removed]",
      "text/plain": [
       "<Figure size 432x288 with 1 Axes>"
      ]
     },
     "metadata": {
      "image/png": {
       "height": 45,
       "width": 349
      },
      "needs_background": "light"
     },
     "output_type": "display_data"
    },
    {
     "data": {
      "image/png": "[encoded data removed]",
      "text/plain": [
       "<Figure size 432x288 with 1 Axes>"
      ]
     },
     "metadata": {
      "image/png": {
       "height": 45,
       "width": 349
      },
      "needs_background": "light"
     },
     "output_type": "display_data"
    },
    {
     "data": {
      "image/png": "[encoded data removed]",
      "text/plain": [
       "<Figure size 432x288 with 1 Axes>"
      ]
     },
     "metadata": {
      "image/png": {
       "height": 45,
       "width": 349
      },
      "needs_background": "light"
     },
     "output_type": "display_data"
    },
    {
     "name": "stdout",
     "output_type": "stream",
     "text": [
      "YELP | MDR-0.5 | mem\n"
     ]
    },
    {
     "data": {
      "image/png": "[encoded data removed]",
      "text/plain": [
       "<Figure size 432x288 with 1 Axes>"
      ]
     },
     "metadata": {
      "image/png": {
       "height": 45,
       "width": 349
      },
      "needs_background": "light"
     },
     "output_type": "display_data"
    },
    {
     "data": {
      "image/png": "[encoded data removed]",
      "text/plain": [
       "<Figure size 432x288 with 1 Axes>"
      ]
     },
     "metadata": {
      "image/png": {
       "height": 45,
       "width": 349
      },
      "needs_background": "light"
     },
     "output_type": "display_data"
    },
    {
     "data": {
      "image/png": "[encoded data removed]",
      "text/plain": [
       "<Figure size 432x288 with 1 Axes>"
      ]
     },
     "metadata": {
      "image/png": {
       "height": 45,
       "width": 349
      },
      "needs_background": "light"
     },
     "output_type": "display_data"
    },
    {
     "name": "stdout",
     "output_type": "stream",
     "text": [
      "YELP | MDR-0.5 | mem | DROP 40\n"
     ]
    },
    {
     "data": {
      "image/png": "[encoded data removed]",
      "text/plain": [
       "<Figure size 432x288 with 1 Axes>"
      ]
     },
     "metadata": {
      "image/png": {
       "height": 45,
       "width": 349
      },
      "needs_background": "light"
     },
     "output_type": "display_data"
    },
    {
     "data": {
      "image/png": "[encoded data removed]",
      "text/plain": [
       "<Figure size 432x288 with 1 Axes>"
      ]
     },
     "metadata": {
      "image/png": {
       "height": 45,
       "width": 349
      },
      "needs_background": "light"
     },
     "output_type": "display_data"
    },
    {
     "data": {
      "image/png": "[encoded data removed]",
      "text/plain": [
       "<Figure size 432x288 with 1 Axes>"
      ]
     },
     "metadata": {
      "image/png": {
       "height": 45,
       "width": 349
      },
      "needs_background": "light"
     },
     "output_type": "display_data"
    },
    {
     "name": "stdout",
     "output_type": "stream",
     "text": [
      "YELP | MDR-0.5 | mem+emb\n"
     ]
    },
    {
     "data": {
      "image/png": "[encoded data removed]",
      "text/plain": [
       "<Figure size 432x288 with 1 Axes>"
      ]
     },
     "metadata": {
      "image/png": {
       "height": 45,
       "width": 349
      },
      "needs_background": "light"
     },
     "output_type": "display_data"
    },
    {
     "data": {
      "image/png": "[encoded data removed]",
      "text/plain": [
       "<Figure size 432x288 with 1 Axes>"
      ]
     },
     "metadata": {
      "image/png": {
       "height": 45,
       "width": 349
      },
      "needs_background": "light"
     },
     "output_type": "display_data"
    },
    {
     "data": {
      "image/png": "[encoded data removed]",
      "text/plain": [
       "<Figure size 432x288 with 1 Axes>"
      ]
     },
     "metadata": {
      "image/png": {
       "height": 45,
       "width": 349
      },
      "needs_background": "light"
     },
     "output_type": "display_data"
    },
    {
     "name": "stdout",
     "output_type": "stream",
     "text": [
      "YELP | VAE | mem\n"
     ]
    },
    {
     "data": {
      "image/png": "[encoded data removed]",
      "text/plain": [
       "<Figure size 432x288 with 1 Axes>"
      ]
     },
     "metadata": {
      "image/png": {
       "height": 45,
       "width": 349
      },
      "needs_background": "light"
     },
     "output_type": "display_data"
    },
    {
     "data": {
      "image/png": "[encoded data removed]",
      "text/plain": [
       "<Figure size 432x288 with 1 Axes>"
      ]
     },
     "metadata": {
      "image/png": {
       "height": 45,
       "width": 349
      },
      "needs_background": "light"
     },
     "output_type": "display_data"
    },
    {
     "data": {
      "image/png": "[encoded data removed]",
      "text/plain": [
       "<Figure size 432x288 with 1 Axes>"
      ]
     },
     "metadata": {
      "image/png": {
       "height": 45,
       "width": 349
      },
      "needs_background": "light"
     },
     "output_type": "display_data"
    },
    {
     "name": "stdout",
     "output_type": "stream",
     "text": [
      "YELP | VAE | mem | DROP 40\n"
     ]
    },
    {
     "data": {
      "image/png": "[encoded data removed]",
      "text/plain": [
       "<Figure size 432x288 with 1 Axes>"
      ]
     },
     "metadata": {
      "image/png": {
       "height": 45,
       "width": 349
      },
      "needs_background": "light"
     },
     "output_type": "display_data"
    },
    {
     "data": {
      "image/png": "[encoded data removed]",
      "text/plain": [
       "<Figure size 432x288 with 1 Axes>"
      ]
     },
     "metadata": {
      "image/png": {
       "height": 45,
       "width": 349
      },
      "needs_background": "light"
     },
     "output_type": "display_data"
    },
    {
     "data": {
      "image/png": "[encoded data removed]",
      "text/plain": [
       "<Figure size 432x288 with 1 Axes>"
      ]
     },
     "metadata": {
      "image/png": {
       "height": 45,
       "width": 349
      },
      "needs_background": "light"
     },
     "output_type": "display_data"
    },
    {
     "name": "stdout",
     "output_type": "stream",
     "text": [
      "YELP | VAE | mem+emb\n"
     ]
    },
    {
     "data": {
      "image/png": "[encoded data removed]",
      "text/plain": [
       "<Figure size 432x288 with 1 Axes>"
      ]
     },
     "metadata": {
      "image/png": {
       "height": 45,
       "width": 349
      },
      "needs_background": "light"
     },
     "output_type": "display_data"
    },
    {
     "data": {
      "image/png": "[encoded data removed]",
      "text/plain": [
       "<Figure size 432x288 with 1 Axes>"
      ]
     },
     "metadata": {
      "image/png": {
       "height": 45,
       "width": 349
      },
      "needs_background": "light"
     },
     "output_type": "display_data"
    },
    {
     "data": {
      "image/png": "[encoded data removed]",
      "text/plain": [
       "<Figure size 432x288 with 1 Axes>"
      ]
     },
     "metadata": {
      "image/png": {
       "height": 45,
       "width": 349
      },
      "needs_background": "light"
     },
     "output_type": "display_data"
    },
    {
     "name": "stdout",
     "output_type": "stream",
     "text": [
      "YELP | VAE | mem+emb | DROP 40\n"
     ]
    },
    {
     "data": {
      "image/png": "[encoded data removed]",
      "text/plain": [
       "<Figure size 432x288 with 1 Axes>"
      ]
     },
     "metadata": {
      "image/png": {
       "height": 45,
       "width": 349
      },
      "needs_background": "light"
     },
     "output_type": "display_data"
    },
    {
     "data": {
      "image/png": "[encoded data removed]",
      "text/plain": [
       "<Figure size 432x288 with 1 Axes>"
      ]
     },
     "metadata": {
      "image/png": {
       "height": 45,
       "width": 349
      },
      "needs_background": "light"
     },
     "output_type": "display_data"
    },
    {
     "data": {
      "image/png": "[encoded data removed]",
      "text/plain": [
       "<Figure size 432x288 with 1 Axes>"
      ]
     },
     "metadata": {
      "image/png": {
       "height": 45,
       "width": 349
      },
      "needs_background": "light"
     },
     "output_type": "display_data"
    }
   ],
   "source": [
    "for clean_name, jsd_results in all_jsd.items():\n",
    "    print(clean_name)\n",
    "    # keys: jsd_over_seq', 'jsd_post_post', 'jsd_prior_post', 'label_masks'\n",
    "    # values: all tensors of shape [N_exp * BS * MAX_BATCHES, max_seq_len-1] = [1280, 63]\n",
    "\n",
    "    for k in jsd_results.keys():\n",
    "        jsd_results[k] = jsd_results[k].reshape(N_EXP, MAX_BATCHES*BS, -1)\n",
    "        #print(jsd_results[k].shape)\n",
    "\n",
    "    jsd_results[\"jsd_post_post_avg\"] = jsd_results[\"jsd_post_post\"].mean(dim=0)\n",
    "    jsd_results[\"jsd_prior_post_avg\"] = jsd_results[\"jsd_prior_post\"].mean(dim=0)\n",
    "    jsd_results[\"masks\"] = jsd_results[\"label_masks\"].mean(dim=0)\n",
    "\n",
    "    N_bins = 63\n",
    "    n_samples, max_len = jsd_results[\"jsd_post_post_avg\"].shape\n",
    "    seq_lens = jsd_results[\"masks\"].sum(dim=1)\n",
    "    positions = torch.arange(1, max_len + 1).unsqueeze(0).repeat(n_samples, 1)\n",
    "    relative_positions = positions / seq_lens.unsqueeze(1)\n",
    "\n",
    "    jsd_results[\"jsd_post_post_avg_masked\"] = torch.masked_select(jsd_results[\"jsd_post_post_avg\"], jsd_results[\"masks\"] == 1.0)\n",
    "    jsd_results[\"jsd_prior_post_avg_masked\"] = torch.masked_select(jsd_results[\"jsd_prior_post_avg\"], jsd_results[\"masks\"] == 1.0)\n",
    "    jsd_results[\"jsd_total_dif_masked\"] = jsd_results[\"jsd_prior_post_avg_masked\"] - jsd_results[\"jsd_post_post_avg_masked\"]\n",
    "\n",
    "    relative_positions_masked = torch.masked_select(relative_positions, jsd_results[\"masks\"] == 1.0)\n",
    "    bin_means, bin_edges, bin_ids = stats.binned_statistic(relative_positions_masked.tolist(), jsd_results[\"jsd_total_dif_masked\"].tolist(),\n",
    "                                                           statistic='mean', bins=N_bins)\n",
    "\n",
    "    plt.imshow(bin_means[None, :], aspect=3.0, cmap=\"viridis\") #vmin=0.0, vmax=2.0, \n",
    "    plt.title(\"prior post - post post\")\n",
    "    plt.axis(\"off\")\n",
    "    plt.show()\n",
    "\n",
    "    bin_means, bin_edges, bin_ids = stats.binned_statistic(relative_positions_masked.tolist(), jsd_results[\"jsd_prior_post_avg_masked\"].tolist(),\n",
    "                                                           statistic='mean', bins=N_bins)\n",
    "\n",
    "    plt.imshow(bin_means[None, :], aspect=3.0, cmap=\"viridis\") #vmin=0.0, vmax=2.0, \n",
    "    plt.title(\"prior post\")\n",
    "    plt.axis(\"off\")\n",
    "    plt.show()\n",
    "\n",
    "    bin_means, bin_edges, bin_ids = stats.binned_statistic(relative_positions_masked.tolist(), jsd_results[\"jsd_post_post_avg_masked\"].tolist(),\n",
    "                                                           statistic='mean', bins=N_bins)\n",
    "    plt.imshow(bin_means[None, :], aspect=3.0, cmap=\"viridis\") #vmin=0.0, vmax=2.0, \n",
    "    plt.title(\"post post\")\n",
    "    plt.axis(\"off\")\n",
    "    plt.show()"
   ]
  },
  {
   "cell_type": "code",
   "execution_count": null,
   "metadata": {},
   "outputs": [],
   "source": []
  }
 ],
 "metadata": {
  "kernelspec": {
   "display_name": "thesisenv",
   "language": "python",
   "name": "thesisenv"
  },
  "language_info": {
   "codemirror_mode": {
    "name": "ipython",
    "version": 3
   },
   "file_extension": ".py",
   "mimetype": "text/x-python",
   "name": "python",
   "nbconvert_exporter": "python",
   "pygments_lexer": "ipython3",
   "version": "3.6.12"
  }
 },
 "nbformat": 4,
 "nbformat_minor": 2
}
